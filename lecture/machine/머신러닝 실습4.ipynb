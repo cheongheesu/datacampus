{
 "cells": [
  {
   "cell_type": "markdown",
   "id": "b6ab8fb6",
   "metadata": {},
   "source": [
    "# Day04 : Multilayer Perceptron"
   ]
  },
  {
   "cell_type": "markdown",
   "id": "61e52fbe",
   "metadata": {},
   "source": [
    "# 1. Multilayer perceptron and backpropagation "
   ]
  },
  {
   "cell_type": "markdown",
   "id": "e497377e",
   "metadata": {},
   "source": [
    "### Sigmoid activation function"
   ]
  },
  {
   "cell_type": "code",
   "execution_count": 1,
   "id": "7a5c7250",
   "metadata": {},
   "outputs": [],
   "source": [
    "import numpy as np\n",
    "\n",
    "# sigmoid function\n",
    "def sigmoid(z):\n",
    "    return 1. / (1. + np.exp(-np.clip(z, -250, 250)))  # np.clip - preventing overflow"
   ]
  },
  {
   "cell_type": "code",
   "execution_count": 2,
   "id": "e793890b",
   "metadata": {},
   "outputs": [
    {
     "name": "stdout",
     "output_type": "stream",
     "text": [
      "sigmoid of z = \n",
      " [[0.73105858 0.5        0.26894142]\n",
      " [0.26894142 0.5        0.73105858]]\n"
     ]
    }
   ],
   "source": [
    "# test sigmoid\n",
    "z = np.array([[1.0, 0.0, -1.0],\n",
    "              [-1.0, 0.0, 1.0]])\n",
    "\n",
    "print(\"sigmoid of z = \\n\", sigmoid(z))"
   ]
  },
  {
   "cell_type": "markdown",
   "id": "07b02d2b",
   "metadata": {},
   "source": [
    "### Softmax function"
   ]
  },
  {
   "cell_type": "code",
   "execution_count": 36,
   "id": "93b69ab6",
   "metadata": {},
   "outputs": [],
   "source": [
    "# softmax function for 2D array\n",
    "def softmax(z):\n",
    "    exps = np.exp(z)\n",
    "    return exps / np.sum(exps, axis=1, keepdims=True)"
   ]
  },
  {
   "cell_type": "code",
   "execution_count": 37,
   "id": "6f6ce67c",
   "metadata": {},
   "outputs": [
    {
     "name": "stdout",
     "output_type": "stream",
     "text": [
      "softmax of z = \n",
      " [[0.66524096 0.24472847 0.09003057]\n",
      " [0.09003057 0.24472847 0.66524096]]\n",
      "sum of softmax values = \n",
      " [[1.]\n",
      " [1.]]\n"
     ]
    }
   ],
   "source": [
    "# test softmax\n",
    "z = np.array([[1.0, 0.0, -1.0],\n",
    "              [-1.0, 0.0, 1.0]])\n",
    "\n",
    "print(\"softmax of z = \\n\", softmax(z))\n",
    "print(\"sum of softmax values = \\n\", np.sum(softmax(z), axis=1, keepdims=True))"
   ]
  },
  {
   "cell_type": "markdown",
   "id": "583c46b5",
   "metadata": {},
   "source": [
    "### Example dataset"
   ]
  },
  {
   "cell_type": "code",
   "execution_count": 7,
   "id": "3d77781a",
   "metadata": {},
   "outputs": [],
   "source": [
    "X = np.array([[0.5, 0.0, -0.5],\n",
    "              [-0.5, 0.0, 0.5]])\n",
    "y = np.array([[1, 0],\n",
    "             [0, 1]])"
   ]
  },
  {
   "cell_type": "markdown",
   "id": "0040b1a8",
   "metadata": {},
   "source": [
    "### Example network"
   ]
  },
  {
   "cell_type": "markdown",
   "id": "285d9885",
   "metadata": {},
   "source": [
    "### Initial parameters"
   ]
  },
  {
   "cell_type": "code",
   "execution_count": 8,
   "id": "a175a958",
   "metadata": {},
   "outputs": [],
   "source": [
    "# weights and bias of hidden layer. w_h is (3, 2)\n",
    "w_h = np.array([[1, -1], \n",
    "                [0, 0],\n",
    "                [-1, 1]])\n",
    "b_h = [0.0, 0.0]\n",
    "\n",
    "# weights and bias of output layer. w_o is (2, 2)\n",
    "w_o = np.array([[1, -1], \n",
    "                [-1, 1]])\n",
    "b_o = [0.0, 0.0]"
   ]
  },
  {
   "cell_type": "markdown",
   "id": "bbca9882",
   "metadata": {},
   "source": [
    "### Forward computation"
   ]
  },
  {
   "cell_type": "code",
   "execution_count": 9,
   "id": "34ba44db",
   "metadata": {},
   "outputs": [
    {
     "name": "stdout",
     "output_type": "stream",
     "text": [
      "[[ 0.5  0.  -0.5]\n",
      " [-0.5  0.   0.5]]\n"
     ]
    }
   ],
   "source": [
    "# input X\n",
    "print(X)"
   ]
  },
  {
   "cell_type": "code",
   "execution_count": 11,
   "id": "16ced751",
   "metadata": {},
   "outputs": [
    {
     "name": "stdout",
     "output_type": "stream",
     "text": [
      "[[ 1. -1.]\n",
      " [-1.  1.]]\n",
      "[[0.73105858 0.26894142]\n",
      " [0.26894142 0.73105858]]\n"
     ]
    }
   ],
   "source": [
    "# output of hidden layer\n",
    "z_h = np.dot(X, w_h)+b_h\n",
    "a_h = sigmoid(z_h)\n",
    "\n",
    "print(z_h)\n",
    "print(a_h)"
   ]
  },
  {
   "cell_type": "code",
   "execution_count": 12,
   "id": "64c4436a",
   "metadata": {},
   "outputs": [
    {
     "name": "stdout",
     "output_type": "stream",
     "text": [
      "[[ 0.46211716 -0.46211716]\n",
      " [-0.46211716  0.46211716]]\n",
      "[[0.71590409 0.28409591]\n",
      " [0.28409591 0.71590409]]\n"
     ]
    }
   ],
   "source": [
    "# output of output layer\n",
    "z_o = np.dot(a_h,w_o) + b_o\n",
    "a_o = softmax(z_o)\n",
    "\n",
    "print(z_o)\n",
    "print(a_o)"
   ]
  },
  {
   "cell_type": "code",
   "execution_count": 13,
   "id": "de504dae",
   "metadata": {},
   "outputs": [
    {
     "data": {
      "text/plain": [
       "array([0, 1], dtype=int64)"
      ]
     },
     "execution_count": 13,
     "metadata": {},
     "output_type": "execute_result"
    }
   ],
   "source": [
    "np.argmax(a_o, axis=1)"
   ]
  },
  {
   "cell_type": "markdown",
   "id": "e0d9cb8b",
   "metadata": {},
   "source": [
    "### Compute cost"
   ]
  },
  {
   "cell_type": "code",
   "execution_count": 47,
   "id": "29c6e72e",
   "metadata": {
    "scrolled": true
   },
   "outputs": [
    {
     "name": "stdout",
     "output_type": "stream",
     "text": [
      "0.334208933408766\n"
     ]
    }
   ],
   "source": [
    "# cross entropy loss\n",
    "cost=np.mean(np.sum(-y * np.log(a_o+1e-7), axis=1))\n",
    "\n",
    "print(cost)"
   ]
  },
  {
   "cell_type": "markdown",
   "id": "a36b5e60",
   "metadata": {},
   "source": [
    "### Compute gradients"
   ]
  },
  {
   "cell_type": "code",
   "execution_count": 50,
   "id": "bcb39e7f",
   "metadata": {},
   "outputs": [],
   "source": [
    "# compute delta of output layer and hidden layer\n",
    "delta_o = a_o - y\n",
    "delta_h = np.dot(delta_o, w_o.T)*(a_h*(1-a_h))"
   ]
  },
  {
   "cell_type": "code",
   "execution_count": 51,
   "id": "757f33c3",
   "metadata": {},
   "outputs": [
    {
     "name": "stdout",
     "output_type": "stream",
     "text": [
      "[[-0.13128559  0.13128559]\n",
      " [ 0.13128559 -0.13128559]]\n",
      "[0. 0.]\n"
     ]
    }
   ],
   "source": [
    "# compute gradient of output layer\n",
    "grad_w_o = np.dot(a_h.T, delta_o) \n",
    "grad_b_o = np.sum(delta_o, axis=0) \n",
    "\n",
    "print(grad_w_o)\n",
    "print(grad_b_o)"
   ]
  },
  {
   "cell_type": "code",
   "execution_count": 52,
   "id": "33c1cf47",
   "metadata": {},
   "outputs": [
    {
     "name": "stdout",
     "output_type": "stream",
     "text": [
      "[[-0.11171329  0.11171329]\n",
      " [ 0.          0.        ]\n",
      " [ 0.11171329 -0.11171329]]\n",
      "[0. 0.]\n"
     ]
    }
   ],
   "source": [
    "# compute gradient of hidden layer\n",
    "grad_w_h = np.dot(X.T, delta_h) \n",
    "grad_b_h = np.sum(delta_h, axis=0) \n",
    "\n",
    "print(grad_w_h)\n",
    "print(grad_b_h)"
   ]
  },
  {
   "cell_type": "markdown",
   "id": "5a35e4f6",
   "metadata": {},
   "source": [
    "### Update parameters - gradient descent"
   ]
  },
  {
   "cell_type": "code",
   "execution_count": 53,
   "id": "82b47857",
   "metadata": {},
   "outputs": [],
   "source": [
    "# learning rate\n",
    "alpha = 0.1\n",
    "\n",
    "# update parameters by gradient descent\n",
    "w_o = w_o - alpha * grad_w_o \n",
    "b_o = b_o - alpha * grad_b_o\n",
    "\n",
    "w_h = w_h - alpha * grad_w_h\n",
    "b_h = b_h - alpha * grad_b_h"
   ]
  },
  {
   "cell_type": "code",
   "execution_count": 54,
   "id": "04cd7d8a",
   "metadata": {},
   "outputs": [
    {
     "name": "stdout",
     "output_type": "stream",
     "text": [
      "[[ 1.01312856 -1.01312856]\n",
      " [-1.01312856  1.01312856]]\n",
      "[0. 0.]\n",
      "[[ 1.01117133 -1.01117133]\n",
      " [ 0.          0.        ]\n",
      " [-1.01117133  1.01117133]]\n",
      "[0. 0.]\n"
     ]
    }
   ],
   "source": [
    "print(w_o)\n",
    "print(b_o)\n",
    "print(w_h)\n",
    "print(b_h)"
   ]
  },
  {
   "cell_type": "markdown",
   "id": "b45e221b",
   "metadata": {},
   "source": [
    "# 2. Image Classification using Multilayer Perceptron"
   ]
  },
  {
   "cell_type": "markdown",
   "id": "ecf2a3f2",
   "metadata": {},
   "source": [
    "### The MNIST image dataset"
   ]
  },
  {
   "cell_type": "code",
   "execution_count": 58,
   "id": "d34122dc",
   "metadata": {},
   "outputs": [
    {
     "data": {
      "text/plain": [
       "{'__header__': b'MATLAB 5.0 MAT-file Platform: posix, Created on: Sun Mar 30 03:19:02 2014',\n",
       " '__version__': '1.0',\n",
       " '__globals__': [],\n",
       " 'mldata_descr_ordering': array([[array(['label'], dtype='<U5'), array(['data'], dtype='<U4')]],\n",
       "       dtype=object),\n",
       " 'data': array([[0, 0, 0, ..., 0, 0, 0],\n",
       "        [0, 0, 0, ..., 0, 0, 0],\n",
       "        [0, 0, 0, ..., 0, 0, 0],\n",
       "        ...,\n",
       "        [0, 0, 0, ..., 0, 0, 0],\n",
       "        [0, 0, 0, ..., 0, 0, 0],\n",
       "        [0, 0, 0, ..., 0, 0, 0]], dtype=uint8),\n",
       " 'label': array([[0., 0., 0., ..., 9., 9., 9.]])}"
      ]
     },
     "execution_count": 58,
     "metadata": {},
     "output_type": "execute_result"
    }
   ],
   "source": [
    "import matplotlib.pyplot as plt\n",
    "from scipy import io\n",
    "\n",
    "# load the MNIST dataset\n",
    "mnist = io.loadmat('mnist-original.mat')\n",
    "mnist"
   ]
  },
  {
   "cell_type": "code",
   "execution_count": 59,
   "id": "ba90fe1e",
   "metadata": {},
   "outputs": [
    {
     "data": {
      "text/plain": [
       "(70000, 784)"
      ]
     },
     "execution_count": 59,
     "metadata": {},
     "output_type": "execute_result"
    }
   ],
   "source": [
    "# get X and y\n",
    "X = mnist['data']\n",
    "y = mnist['label']\n",
    "\n",
    "X = np.array(X).T\n",
    "X.shape"
   ]
  },
  {
   "cell_type": "code",
   "execution_count": 60,
   "id": "2f37a27e",
   "metadata": {},
   "outputs": [
    {
     "data": {
      "text/plain": [
       "(70000,)"
      ]
     },
     "execution_count": 60,
     "metadata": {},
     "output_type": "execute_result"
    }
   ],
   "source": [
    "y = np.array(y).T.ravel()\n",
    "y.shape"
   ]
  },
  {
   "cell_type": "code",
   "execution_count": 61,
   "id": "be799bd8",
   "metadata": {},
   "outputs": [
    {
     "data": {
      "text/plain": [
       "array([  0,   0,   0,   0,   0,   0,   0,   0,   0,   0,   0,   0,   0,\n",
       "         0,   0,   0,   0,   0,   0,   0,   0,   0,   0,   0,   0,   0,\n",
       "         0,   0,   0,   0,   0,   0,   0,   0,   0,   0,   0,   0,   0,\n",
       "         0,   0,   0,   0,   0,   0,   0,   0,   0,   0,   0,   0,   0,\n",
       "         0,   0,   0,   0,   0,   0,   0,   0,   0,   0,   0,   0,   0,\n",
       "         0,   0,   0,   0,   0,   0,   0,   0,   0,   0,   0,   0,   0,\n",
       "         0,   0,   0,   0,   0,   0,   0,   0,   0,   0,   0,   0,   0,\n",
       "         0,   0,   0,   0,   0,   0,   0,   0,   0,   0,   0,   0,   0,\n",
       "         0,   0,   0,   0,   0,   0,   0,   0,   0,   0,   0,   0,   0,\n",
       "         0,   0,   0,   0,   0,   0,   0,   0,   0,   0,  51, 159, 253,\n",
       "       159,  50,   0,   0,   0,   0,   0,   0,   0,   0,   0,   0,   0,\n",
       "         0,   0,   0,   0,   0,   0,   0,   0,   0,   0,   0,  48, 238,\n",
       "       252, 252, 252, 237,   0,   0,   0,   0,   0,   0,   0,   0,   0,\n",
       "         0,   0,   0,   0,   0,   0,   0,   0,   0,   0,   0,   0,  54,\n",
       "       227, 253, 252, 239, 233, 252,  57,   6,   0,   0,   0,   0,   0,\n",
       "         0,   0,   0,   0,   0,   0,   0,   0,   0,   0,   0,   0,  10,\n",
       "        60, 224, 252, 253, 252, 202,  84, 252, 253, 122,   0,   0,   0,\n",
       "         0,   0,   0,   0,   0,   0,   0,   0,   0,   0,   0,   0,   0,\n",
       "         0, 163, 252, 252, 252, 253, 252, 252,  96, 189, 253, 167,   0,\n",
       "         0,   0,   0,   0,   0,   0,   0,   0,   0,   0,   0,   0,   0,\n",
       "         0,   0,  51, 238, 253, 253, 190, 114, 253, 228,  47,  79, 255,\n",
       "       168,   0,   0,   0,   0,   0,   0,   0,   0,   0,   0,   0,   0,\n",
       "         0,   0,   0,  48, 238, 252, 252, 179,  12,  75, 121,  21,   0,\n",
       "         0, 253, 243,  50,   0,   0,   0,   0,   0,   0,   0,   0,   0,\n",
       "         0,   0,   0,   0,  38, 165, 253, 233, 208,  84,   0,   0,   0,\n",
       "         0,   0,   0, 253, 252, 165,   0,   0,   0,   0,   0,   0,   0,\n",
       "         0,   0,   0,   0,   0,   7, 178, 252, 240,  71,  19,  28,   0,\n",
       "         0,   0,   0,   0,   0, 253, 252, 195,   0,   0,   0,   0,   0,\n",
       "         0,   0,   0,   0,   0,   0,   0,  57, 252, 252,  63,   0,   0,\n",
       "         0,   0,   0,   0,   0,   0,   0, 253, 252, 195,   0,   0,   0,\n",
       "         0,   0,   0,   0,   0,   0,   0,   0,   0, 198, 253, 190,   0,\n",
       "         0,   0,   0,   0,   0,   0,   0,   0,   0, 255, 253, 196,   0,\n",
       "         0,   0,   0,   0,   0,   0,   0,   0,   0,   0,  76, 246, 252,\n",
       "       112,   0,   0,   0,   0,   0,   0,   0,   0,   0,   0, 253, 252,\n",
       "       148,   0,   0,   0,   0,   0,   0,   0,   0,   0,   0,   0,  85,\n",
       "       252, 230,  25,   0,   0,   0,   0,   0,   0,   0,   0,   7, 135,\n",
       "       253, 186,  12,   0,   0,   0,   0,   0,   0,   0,   0,   0,   0,\n",
       "         0,  85, 252, 223,   0,   0,   0,   0,   0,   0,   0,   0,   7,\n",
       "       131, 252, 225,  71,   0,   0,   0,   0,   0,   0,   0,   0,   0,\n",
       "         0,   0,   0,  85, 252, 145,   0,   0,   0,   0,   0,   0,   0,\n",
       "        48, 165, 252, 173,   0,   0,   0,   0,   0,   0,   0,   0,   0,\n",
       "         0,   0,   0,   0,   0,  86, 253, 225,   0,   0,   0,   0,   0,\n",
       "         0, 114, 238, 253, 162,   0,   0,   0,   0,   0,   0,   0,   0,\n",
       "         0,   0,   0,   0,   0,   0,   0,  85, 252, 249, 146,  48,  29,\n",
       "        85, 178, 225, 253, 223, 167,  56,   0,   0,   0,   0,   0,   0,\n",
       "         0,   0,   0,   0,   0,   0,   0,   0,   0,  85, 252, 252, 252,\n",
       "       229, 215, 252, 252, 252, 196, 130,   0,   0,   0,   0,   0,   0,\n",
       "         0,   0,   0,   0,   0,   0,   0,   0,   0,   0,   0,  28, 199,\n",
       "       252, 252, 253, 252, 252, 233, 145,   0,   0,   0,   0,   0,   0,\n",
       "         0,   0,   0,   0,   0,   0,   0,   0,   0,   0,   0,   0,   0,\n",
       "         0,  25, 128, 252, 253, 252, 141,  37,   0,   0,   0,   0,   0,\n",
       "         0,   0,   0,   0,   0,   0,   0,   0,   0,   0,   0,   0,   0,\n",
       "         0,   0,   0,   0,   0,   0,   0,   0,   0,   0,   0,   0,   0,\n",
       "         0,   0,   0,   0,   0,   0,   0,   0,   0,   0,   0,   0,   0,\n",
       "         0,   0,   0,   0,   0,   0,   0,   0,   0,   0,   0,   0,   0,\n",
       "         0,   0,   0,   0,   0,   0,   0,   0,   0,   0,   0,   0,   0,\n",
       "         0,   0,   0,   0,   0,   0,   0,   0,   0,   0,   0,   0,   0,\n",
       "         0,   0,   0,   0,   0,   0,   0,   0,   0,   0,   0,   0,   0,\n",
       "         0,   0,   0,   0,   0,   0,   0,   0,   0,   0,   0,   0,   0,\n",
       "         0,   0,   0,   0,   0,   0,   0,   0,   0,   0,   0,   0,   0,\n",
       "         0,   0,   0,   0], dtype=uint8)"
      ]
     },
     "execution_count": 61,
     "metadata": {},
     "output_type": "execute_result"
    }
   ],
   "source": [
    "# check data 0 (image 0)\n",
    "\n",
    "X[0]"
   ]
  },
  {
   "cell_type": "code",
   "execution_count": 62,
   "id": "62f8c3f4",
   "metadata": {},
   "outputs": [
    {
     "data": {
      "image/png": "[encoded data removed]",
      "text/plain": [
       "<Figure size 640x480 with 1 Axes>"
      ]
     },
     "metadata": {},
     "output_type": "display_data"
    }
   ],
   "source": [
    "# show image 0\n",
    "ex1 = X[0] \n",
    "ex1_image = ex1.reshape(28, 28) \n",
    "plt.imshow(ex1_image, cmap='Greys') \n",
    "plt.show()"
   ]
  },
  {
   "cell_type": "code",
   "execution_count": 63,
   "id": "af831a89",
   "metadata": {},
   "outputs": [
    {
     "data": {
      "text/plain": [
       "0.0"
      ]
     },
     "execution_count": 63,
     "metadata": {},
     "output_type": "execute_result"
    }
   ],
   "source": [
    "# label of image 0\n",
    "y[0]"
   ]
  },
  {
   "cell_type": "code",
   "execution_count": 64,
   "id": "f43dd9d1",
   "metadata": {},
   "outputs": [
    {
     "data": {
      "image/png": "[encoded data removed]",
      "text/plain": [
       "<Figure size 640x480 with 1 Axes>"
      ]
     },
     "metadata": {},
     "output_type": "display_data"
    }
   ],
   "source": [
    "# show image 50000\n",
    "ex1 = X[50000] \n",
    "ex1_image = ex1.reshape(28, 28) \n",
    "plt.imshow(ex1_image, cmap='Greys') \n",
    "plt.show()"
   ]
  },
  {
   "cell_type": "code",
   "execution_count": 65,
   "id": "64733d7b",
   "metadata": {},
   "outputs": [
    {
     "data": {
      "text/plain": [
       "8.0"
      ]
     },
     "execution_count": 65,
     "metadata": {},
     "output_type": "execute_result"
    }
   ],
   "source": [
    "# label of image 50000\n",
    "y[50000]"
   ]
  },
  {
   "cell_type": "code",
   "execution_count": 66,
   "id": "9eb66ff4",
   "metadata": {},
   "outputs": [],
   "source": [
    "# train/test split\n",
    "X_train, X_test = X[:60000], X[60000:]\n",
    "y_train, y_test = y[:60000], y[60000:]"
   ]
  },
  {
   "cell_type": "markdown",
   "id": "c0e6e8a2",
   "metadata": {},
   "source": [
    "### One-hot encoding of class label"
   ]
  },
  {
   "cell_type": "code",
   "execution_count": 67,
   "id": "5100a874",
   "metadata": {},
   "outputs": [],
   "source": [
    "# function to encode class label to one-hot\n",
    "# ex> 2 --> 0 0 1 0 0 0 0 0 0 0\n",
    "def onehot(y, n_classes):\n",
    "\n",
    "    # y is an array of labels\n",
    "    # n_classes is number of different labels\n",
    "    onehot = np.zeros((y.shape[0], n_classes))\n",
    "    \n",
    "    for idx, val in enumerate(y.astype(int)):\n",
    "        onehot[idx, val] = 1.\n",
    "    return onehot"
   ]
  },
  {
   "cell_type": "code",
   "execution_count": 68,
   "id": "8ec0b441",
   "metadata": {},
   "outputs": [
    {
     "name": "stdout",
     "output_type": "stream",
     "text": [
      "[[1. 0. 0.]\n",
      " [0. 1. 0.]\n",
      " [0. 0. 1.]\n",
      " [1. 0. 0.]\n",
      " [0. 1. 0.]\n",
      " [0. 0. 1.]]\n"
     ]
    }
   ],
   "source": [
    "# test onehot encoding\n",
    "y = np.array([0, 1, 2, 0, 1, 2])\n",
    "print(onehot(y, 3))"
   ]
  },
  {
   "cell_type": "markdown",
   "id": "fb2a1dfc",
   "metadata": {},
   "source": [
    "### Generating batchs for Stochastic Gradient Descent"
   ]
  },
  {
   "cell_type": "code",
   "execution_count": 69,
   "id": "e1e134be",
   "metadata": {},
   "outputs": [
    {
     "name": "stdout",
     "output_type": "stream",
     "text": [
      "total number of data =  60000\n",
      "indices =  [    0     1     2 ... 59997 59998 59999]\n"
     ]
    }
   ],
   "source": [
    "# total number of data and total index\n",
    "n_data = X_train.shape[0]\n",
    "indices = np.arange(n_data)\n",
    "\n",
    "print(\"total number of data = \", n_data)\n",
    "print(\"indices = \", indices)"
   ]
  },
  {
   "cell_type": "code",
   "execution_count": 70,
   "id": "2b74ef86",
   "metadata": {},
   "outputs": [
    {
     "name": "stdout",
     "output_type": "stream",
     "text": [
      "indices = [   0    1    2 ... 9997 9998 9999] batch data shape =  (10000, 784)\n",
      "indices = [10000 10001 10002 ... 19997 19998 19999] batch data shape =  (10000, 784)\n",
      "indices = [20000 20001 20002 ... 29997 29998 29999] batch data shape =  (10000, 784)\n",
      "indices = [30000 30001 30002 ... 39997 39998 39999] batch data shape =  (10000, 784)\n",
      "indices = [40000 40001 40002 ... 49997 49998 49999] batch data shape =  (10000, 784)\n",
      "indices = [50000 50001 50002 ... 59997 59998 59999] batch data shape =  (10000, 784)\n"
     ]
    }
   ],
   "source": [
    "# test generating batch training data of size 10000\n",
    "batch_size = 10000\n",
    "\n",
    "# for 0, 10000, 20000, ...\n",
    "for start_idx in range(0, indices.shape[0]-batch_size+1, batch_size):\n",
    "    \n",
    "    # each batch has 10000 data\n",
    "    batch_idx = indices[start_idx : start_idx+batch_size]\n",
    "    print(\"indices =\", batch_idx, \"batch data shape = \", X_train[batch_idx].shape)"
   ]
  },
  {
   "cell_type": "markdown",
   "id": "ed4d5de0",
   "metadata": {},
   "source": [
    "### The Multilayer Perceptron class"
   ]
  },
  {
   "cell_type": "code",
   "execution_count": 79,
   "id": "58903fac",
   "metadata": {},
   "outputs": [],
   "source": [
    "import sys\n",
    "\n",
    "class NeuralNetMLP(object):\n",
    "    '''\n",
    "    This model has 1 hidden layer\n",
    "    \n",
    "    n_hidden :   number of hidden units\n",
    "    epochs :     number of epoches\n",
    "    alpha :      learning rate\n",
    "    shuffle :    if True, shuffle the training data each epoch \n",
    "    batch_size : size of batch training set \n",
    "    seed :       seed for random generation\n",
    "    \n",
    "    z_h, a_h : z and output of hidden layer\n",
    "    z_o, a_o : z and output of output layer\n",
    "    \n",
    "    n_samples :  number of total data \n",
    "    n_features : number of features of a data\n",
    "    n_output :   numner of output (number of class labels)\n",
    "    \n",
    "    w_h, b_h : parameter of hidden layer. (n_features, n_hidden), (n_hidden)\n",
    "    w_o, b_o : parameter of output layer. (n_hidden, n_output), (n_output)\n",
    "\n",
    "    '''\n",
    "    def __init__(self, n_hidden=100, epochs=100, alpha=0.01,\n",
    "                 shuffle=True, batch_size=100, seed=None):\n",
    "\n",
    "        self.random = np.random.RandomState(seed)\n",
    "        self.n_hidden = n_hidden\n",
    "        self.epochs = epochs\n",
    "        self.alpha = alpha\n",
    "        self.shuffle = shuffle\n",
    "        self.batch_size = batch_size\n",
    "\n",
    "    # sigmoid function\n",
    "    def _sigmoid(self, z):\n",
    "        return 1. / (1. + np.exp(-np.clip(z, -250, 250)))  # np.clip - preventing overflow\n",
    "\n",
    "    # softmax function for 2D array\n",
    "    def _softmax(self, z):\n",
    "        exps = np.exp(z)\n",
    "        return exps / np.sum(exps, axis=1, keepdims=True)\n",
    "\n",
    "    # forward computation\n",
    "    def _forward(self, X):\n",
    "\n",
    "        # z and a of hidden layer. a = sigmoid(z)\n",
    "        # (n_samples, n_features) dot (n_features, n_hidden) -> (n_samples, n_hidden)\n",
    "        z_h = np.dot(X, self.w_h) + self.b_h\n",
    "        a_h = self._sigmoid(z_h)\n",
    "\n",
    "        # z and a of output layer. a = softmax(z)\n",
    "        # (n_samples, n_hidden) dot (n_hidden, n_output) -> (n_samples, n_output)\n",
    "        z_o = np.dot(a_h, self.w_o) + self.b_o\n",
    "        a_o = self._softmax(z_o)\n",
    "\n",
    "        return z_h, a_h, z_o, a_o\n",
    "\n",
    "    # compute cost - cross entropy\n",
    "    def _compute_cost(self, y_enc, output):\n",
    "\n",
    "        # y_enc :  onehot endcoded y (n_samples, n_output (labels))\n",
    "        # output : a_o of output layer (n_samples, n_output)\n",
    "        cost = np.sum(-y_enc * (np.log(output + 1e-7))) / self.n_samples # output+1e-7 to prevent overflow\n",
    "        \n",
    "        return cost\n",
    "\n",
    "    # predict class label\n",
    "    def predict(self, X):\n",
    "\n",
    "        # y_pred : index of max output (n_samples)\n",
    "        z_h, a_h, z_o, a_o = self._forward(X)\n",
    "        y_pred = np.argmax(a_o, axis=1)\n",
    "\n",
    "        return y_pred\n",
    "\n",
    "    # train the model\n",
    "    def fit(self, X_train, y_train):\n",
    "\n",
    "        # X_train : (n_samples, n_features)\n",
    "        # y_train : (n_samples)\n",
    "        self.n_samples = X_train.shape[0]\n",
    "        self.n_features = X_train.shape[1]           \n",
    "        self.n_output = np.unique(y_train).shape[0]  # number of class labels\n",
    "\n",
    "        # initialize parameters\n",
    "        self.b_h = np.zeros(self.n_hidden)\n",
    "        self.w_h = self.random.normal(loc=0.0, scale=0.1, size=(self.n_features, self.n_hidden))\n",
    "        self.b_o = np.zeros(self.n_output)\n",
    "        self.w_o = self.random.normal(loc=0.0, scale=0.1, size=(self.n_hidden, self.n_output))\n",
    "\n",
    "        # one-hot encoding y_train\n",
    "        y_train_enc = onehot(y_train, self.n_output)\n",
    "        \n",
    "        # print the dimension of model\n",
    "        print(\"number of input  = \", self.n_features) \n",
    "        print(\"number of hidden = \", self.n_hidden)       \n",
    "        print(\"number of output = \", self.n_output)  \n",
    "\n",
    "        # record cost \n",
    "        self.history = []\n",
    "\n",
    "        # gradient descent for total epochs     \n",
    "        for i in range(self.epochs):\n",
    "\n",
    "            indices = np.arange(self.n_samples)\n",
    "            if self.shuffle:\n",
    "                self.random.shuffle(indices)\n",
    "\n",
    "            # for each batch\n",
    "            for start_idx in range(0, indices.shape[0]-self.batch_size+1, self.batch_size):\n",
    "                batch_idx = indices[start_idx:start_idx+self.batch_size]\n",
    "\n",
    "                X = X_train[batch_idx]\n",
    "                y = y_train_enc[batch_idx]\n",
    "                \n",
    "                # forward computation\n",
    "                z_h, a_h, z_o, a_o = self._forward(X)\n",
    "\n",
    "                # compute deltas              \n",
    "                delta_o = a_o - y                                        # [batch_size, n_output]\n",
    "                delta_h = np.dot(delta_o, self.w_o.T) * a_h * (1-a_h) # [batch_size, n_hidden]\n",
    "\n",
    "                # compute gradients        \n",
    "                grad_w_o = np.dot(a_h.T, delta_o) / self.batch_size     # [n_hidden, n_output]\n",
    "                grad_b_o = np.sum(delta_o, axis=0) / self.batch_size\n",
    "                grad_w_h = np.dot(X.T, delta_h) / self.batch_size        # [n_features, n_hidden]\n",
    "                grad_b_h = np.sum(delta_h, axis=0) / self.batch_size\n",
    "\n",
    "                # update parameters\n",
    "                self.w_o = self.w_o - self.alpha * grad_w_o    # [n_hidden, n_output]\n",
    "                self.b_o = self.b_o - self.alpha * grad_b_o\n",
    "                self.w_h = self.w_h - self.alpha * grad_w_h     # [n_features, n_hidden]\n",
    "                self.b_h = self.b_h - self.alpha * grad_b_h\n",
    "\n",
    "            # record costs every epoch\n",
    "            z_h, a_h, z_o, a_o = self._forward(X_train)\n",
    "            cost = self._compute_cost(y_train_enc, a_o)\n",
    "            print('Iteration %5d: Cost %f ' % (i, cost))\n",
    "            self.history.append(cost)\n",
    "\n",
    "        return self"
   ]
  },
  {
   "cell_type": "markdown",
   "id": "e08dc970",
   "metadata": {},
   "source": [
    "### Training MLP"
   ]
  },
  {
   "cell_type": "code",
   "execution_count": 80,
   "id": "c966067f",
   "metadata": {},
   "outputs": [],
   "source": [
    "# multilayer perceptron with 1 hidden layer, 100 hidden units.\n",
    "# stochastic gradient descent with batch size 100. learning rate = 0.01, epochs = 100\n",
    "\n",
    "nn = NeuralNetMLP(n_hidden=100, \n",
    "                  epochs=100, \n",
    "                  alpha=0.01,\n",
    "                  batch_size=100, \n",
    "                  shuffle=True,\n",
    "                  seed=1)"
   ]
  },
  {
   "cell_type": "code",
   "execution_count": 81,
   "id": "32981a4f",
   "metadata": {},
   "outputs": [
    {
     "name": "stdout",
     "output_type": "stream",
     "text": [
      "number of input  =  784\n",
      "number of hidden =  100\n",
      "number of output =  10\n",
      "Iteration     0: Cost 1.010157 \n",
      "Iteration     1: Cost 0.682187 \n",
      "Iteration     2: Cost 0.544199 \n",
      "Iteration     3: Cost 0.472936 \n",
      "Iteration     4: Cost 0.424484 \n",
      "Iteration     5: Cost 0.385334 \n",
      "Iteration     6: Cost 0.368672 \n",
      "Iteration     7: Cost 0.344817 \n",
      "Iteration     8: Cost 0.327091 \n",
      "Iteration     9: Cost 0.316468 \n",
      "Iteration    10: Cost 0.301461 \n",
      "Iteration    11: Cost 0.295521 \n",
      "Iteration    12: Cost 0.283644 \n",
      "Iteration    13: Cost 0.272245 \n",
      "Iteration    14: Cost 0.267272 \n",
      "Iteration    15: Cost 0.257662 \n",
      "Iteration    16: Cost 0.255100 \n",
      "Iteration    17: Cost 0.245801 \n",
      "Iteration    18: Cost 0.240919 \n",
      "Iteration    19: Cost 0.238480 \n",
      "Iteration    20: Cost 0.230585 \n",
      "Iteration    21: Cost 0.229552 \n",
      "Iteration    22: Cost 0.221160 \n",
      "Iteration    23: Cost 0.219360 \n",
      "Iteration    24: Cost 0.217888 \n",
      "Iteration    25: Cost 0.211986 \n",
      "Iteration    26: Cost 0.212844 \n",
      "Iteration    27: Cost 0.204689 \n",
      "Iteration    28: Cost 0.205365 \n",
      "Iteration    29: Cost 0.199790 \n",
      "Iteration    30: Cost 0.197815 \n",
      "Iteration    31: Cost 0.194696 \n",
      "Iteration    32: Cost 0.190828 \n",
      "Iteration    33: Cost 0.186898 \n",
      "Iteration    34: Cost 0.186968 \n",
      "Iteration    35: Cost 0.184504 \n",
      "Iteration    36: Cost 0.177756 \n",
      "Iteration    37: Cost 0.176330 \n",
      "Iteration    38: Cost 0.178595 \n",
      "Iteration    39: Cost 0.171980 \n",
      "Iteration    40: Cost 0.170346 \n",
      "Iteration    41: Cost 0.169891 \n",
      "Iteration    42: Cost 0.167271 \n",
      "Iteration    43: Cost 0.166381 \n",
      "Iteration    44: Cost 0.163497 \n",
      "Iteration    45: Cost 0.165565 \n",
      "Iteration    46: Cost 0.163066 \n",
      "Iteration    47: Cost 0.162019 \n",
      "Iteration    48: Cost 0.163656 \n",
      "Iteration    49: Cost 0.159006 \n",
      "Iteration    50: Cost 0.154149 \n",
      "Iteration    51: Cost 0.157611 \n",
      "Iteration    52: Cost 0.154521 \n",
      "Iteration    53: Cost 0.150026 \n",
      "Iteration    54: Cost 0.150291 \n",
      "Iteration    55: Cost 0.145629 \n",
      "Iteration    56: Cost 0.148375 \n",
      "Iteration    57: Cost 0.144267 \n",
      "Iteration    58: Cost 0.145220 \n",
      "Iteration    59: Cost 0.140475 \n",
      "Iteration    60: Cost 0.140457 \n",
      "Iteration    61: Cost 0.139243 \n",
      "Iteration    62: Cost 0.136053 \n",
      "Iteration    63: Cost 0.138993 \n",
      "Iteration    64: Cost 0.135908 \n",
      "Iteration    65: Cost 0.135216 \n",
      "Iteration    66: Cost 0.131966 \n",
      "Iteration    67: Cost 0.133895 \n",
      "Iteration    68: Cost 0.132718 \n",
      "Iteration    69: Cost 0.131244 \n",
      "Iteration    70: Cost 0.128406 \n",
      "Iteration    71: Cost 0.127046 \n",
      "Iteration    72: Cost 0.124991 \n",
      "Iteration    73: Cost 0.127600 \n",
      "Iteration    74: Cost 0.123438 \n",
      "Iteration    75: Cost 0.125470 \n",
      "Iteration    76: Cost 0.121781 \n",
      "Iteration    77: Cost 0.120392 \n",
      "Iteration    78: Cost 0.118284 \n",
      "Iteration    79: Cost 0.117283 \n",
      "Iteration    80: Cost 0.116748 \n",
      "Iteration    81: Cost 0.119127 \n",
      "Iteration    82: Cost 0.121110 \n",
      "Iteration    83: Cost 0.116445 \n",
      "Iteration    84: Cost 0.119025 \n",
      "Iteration    85: Cost 0.114541 \n",
      "Iteration    86: Cost 0.113098 \n",
      "Iteration    87: Cost 0.114694 \n",
      "Iteration    88: Cost 0.112667 \n",
      "Iteration    89: Cost 0.112467 \n",
      "Iteration    90: Cost 0.109470 \n",
      "Iteration    91: Cost 0.110711 \n",
      "Iteration    92: Cost 0.110751 \n",
      "Iteration    93: Cost 0.107926 \n",
      "Iteration    94: Cost 0.110160 \n",
      "Iteration    95: Cost 0.107380 \n",
      "Iteration    96: Cost 0.105445 \n",
      "Iteration    97: Cost 0.105886 \n",
      "Iteration    98: Cost 0.105512 \n",
      "Iteration    99: Cost 0.102033 \n"
     ]
    },
    {
     "data": {
      "text/plain": [
       "<__main__.NeuralNetMLP at 0x2adbeabeef0>"
      ]
     },
     "execution_count": 81,
     "metadata": {},
     "output_type": "execute_result"
    }
   ],
   "source": [
    "# train the network with 60000 training data\n",
    "nn.fit(X_train, y_train)"
   ]
  },
  {
   "cell_type": "markdown",
   "id": "6555632c",
   "metadata": {},
   "source": [
    "### Number of parameters"
   ]
  },
  {
   "cell_type": "code",
   "execution_count": 82,
   "id": "3d4ef069",
   "metadata": {},
   "outputs": [
    {
     "name": "stdout",
     "output_type": "stream",
     "text": [
      "shape of w_h =  (784, 100)\n",
      "shape of b_h =  (100,)\n",
      "shape of w_o =  (100, 10)\n",
      "shape of b_o =  (10,)\n",
      "total number of parameters =  79510\n"
     ]
    }
   ],
   "source": [
    "# check the total number of parameters\n",
    "print(\"shape of w_h = \", nn.w_h.shape)\n",
    "print(\"shape of b_h = \", nn.b_h.shape)\n",
    "print(\"shape of w_o = \", nn.w_o.shape)\n",
    "print(\"shape of b_o = \", nn.b_o.shape)\n",
    "print(\"total number of parameters = \", nn.w_h.shape[0]*nn.w_h.shape[1] + nn.b_h.shape[0] + nn.w_o.shape[0]*nn.w_o.shape[1] + nn.b_o.shape[0])"
   ]
  },
  {
   "cell_type": "markdown",
   "id": "e5a1dc09",
   "metadata": {},
   "source": [
    "### Plot the cost change"
   ]
  },
  {
   "cell_type": "code",
   "execution_count": 84,
   "id": "fe0577fa",
   "metadata": {},
   "outputs": [
    {
     "data": {
      "image/png": "[encoded data removed]",
      "text/plain": [
       "<Figure size 640x480 with 1 Axes>"
      ]
     },
     "metadata": {},
     "output_type": "display_data"
    }
   ],
   "source": [
    "import matplotlib.pyplot as plt\n",
    "\n",
    "# plot the loss - history\n",
    "plt.plot(range(len(nn.history)), nn.history)\n",
    "\n",
    "plt.ylabel('Cost')\n",
    "plt.xlabel('Epochs')\n",
    "plt.show()"
   ]
  },
  {
   "cell_type": "markdown",
   "id": "d8ee78be",
   "metadata": {},
   "source": [
    "### Accuracy of the model"
   ]
  },
  {
   "cell_type": "code",
   "execution_count": 85,
   "id": "b318dfd4",
   "metadata": {},
   "outputs": [
    {
     "name": "stdout",
     "output_type": "stream",
     "text": [
      "train 정확도: 97.20%\n",
      "test 정확도: 95.21%\n"
     ]
    }
   ],
   "source": [
    "# training accuracy\n",
    "y_train_pred = nn.predict(X_train)\n",
    "acc = (np.sum(y_train == y_train_pred).astype(float) / X_train.shape[0])\n",
    "\n",
    "print('train 정확도: %.2f%%' % (acc * 100))\n",
    "\n",
    "# test accuracy\n",
    "y_test_pred = nn.predict(X_test)\n",
    "acc = (np.sum(y_test == y_test_pred).astype(float) / X_test.shape[0])\n",
    "\n",
    "print('test 정확도: %.2f%%' % (acc * 100))"
   ]
  },
  {
   "cell_type": "markdown",
   "id": "d8570b3e",
   "metadata": {},
   "source": [
    "### Classification test"
   ]
  },
  {
   "cell_type": "code",
   "execution_count": 86,
   "id": "f7b3232b",
   "metadata": {},
   "outputs": [
    {
     "data": {
      "image/png": "[encoded data removed]",
      "text/plain": [
       "<Figure size 640x480 with 1 Axes>"
      ]
     },
     "metadata": {},
     "output_type": "display_data"
    }
   ],
   "source": [
    "# show image 63000\n",
    "\n",
    "ex = X[63000]\n",
    "ex_image = ex.reshape(28, 28)\n",
    "plt.imshow(ex_image, cmap='Greys')\n",
    "plt.show()"
   ]
  },
  {
   "cell_type": "code",
   "execution_count": 87,
   "id": "ba056fc5",
   "metadata": {},
   "outputs": [
    {
     "name": "stdout",
     "output_type": "stream",
     "text": [
      "The image is number :  2\n"
     ]
    }
   ],
   "source": [
    "# classification - predict label of image 63000\n",
    "pred = nn.predict([ex])\n",
    "print(\"The image is number : \", pred[0])"
   ]
  },
  {
   "cell_type": "markdown",
   "id": "4634ecd2",
   "metadata": {},
   "source": [
    "# 3. Multilayer perceptron using scikit learn"
   ]
  },
  {
   "cell_type": "markdown",
   "id": "f9418b4b",
   "metadata": {},
   "source": [
    "### Standardize data"
   ]
  },
  {
   "cell_type": "code",
   "execution_count": 88,
   "id": "b8ed6366",
   "metadata": {},
   "outputs": [],
   "source": [
    "from sklearn.preprocessing import StandardScaler\n",
    "\n",
    "# standardize data\n",
    "sc = StandardScaler()\n",
    "sc.fit(X_train)\n",
    "X_train_std = sc.transform(X_train)\n",
    "X_test_std = sc.transform(X_test)"
   ]
  },
  {
   "cell_type": "code",
   "execution_count": 89,
   "id": "7c8a7016",
   "metadata": {},
   "outputs": [
    {
     "data": {
      "text/plain": [
       "(60000,)"
      ]
     },
     "execution_count": 89,
     "metadata": {},
     "output_type": "execute_result"
    }
   ],
   "source": [
    "y_train.shape"
   ]
  },
  {
   "cell_type": "markdown",
   "id": "9abbe353",
   "metadata": {},
   "source": [
    "### Train MLPClassifier"
   ]
  },
  {
   "cell_type": "code",
   "execution_count": 90,
   "id": "63482045",
   "metadata": {},
   "outputs": [
    {
     "name": "stdout",
     "output_type": "stream",
     "text": [
      "Iteration 1, loss = 0.41689056\n",
      "Iteration 2, loss = 0.25026337\n",
      "Iteration 3, loss = 0.20809725\n",
      "Iteration 4, loss = 0.18444219\n",
      "Iteration 5, loss = 0.16713313\n",
      "Iteration 6, loss = 0.15427066\n",
      "Iteration 7, loss = 0.14313532\n",
      "Iteration 8, loss = 0.13586182\n",
      "Iteration 9, loss = 0.12837024\n",
      "Iteration 10, loss = 0.12232528\n",
      "Iteration 11, loss = 0.11778416\n",
      "Iteration 12, loss = 0.11328087\n",
      "Iteration 13, loss = 0.10974739\n",
      "Iteration 14, loss = 0.10637758\n",
      "Iteration 15, loss = 0.10370598\n",
      "Iteration 16, loss = 0.10095428\n",
      "Iteration 17, loss = 0.09835926\n",
      "Iteration 18, loss = 0.09663742\n",
      "Iteration 19, loss = 0.09553043\n",
      "Iteration 20, loss = 0.09343205\n",
      "Iteration 21, loss = 0.09240505\n",
      "Iteration 22, loss = 0.09081009\n",
      "Iteration 23, loss = 0.09006995\n",
      "Iteration 24, loss = 0.08928516\n",
      "Iteration 25, loss = 0.08832028\n",
      "Iteration 26, loss = 0.08784616\n",
      "Iteration 27, loss = 0.08727906\n",
      "Iteration 28, loss = 0.08623176\n",
      "Iteration 29, loss = 0.08509248\n",
      "Iteration 30, loss = 0.08503916\n",
      "Iteration 31, loss = 0.08472869\n",
      "Iteration 32, loss = 0.08454073\n",
      "Iteration 33, loss = 0.08343270\n",
      "Iteration 34, loss = 0.08390219\n",
      "Iteration 35, loss = 0.08299714\n",
      "Iteration 36, loss = 0.08250653\n",
      "Iteration 37, loss = 0.08278885\n",
      "Iteration 38, loss = 0.08456384\n",
      "Iteration 39, loss = 0.08274158\n",
      "Iteration 40, loss = 0.08234007\n",
      "Iteration 41, loss = 0.08436894\n",
      "Iteration 42, loss = 0.08443855\n",
      "Iteration 43, loss = 0.08331360\n",
      "Iteration 44, loss = 0.08248065\n",
      "Iteration 45, loss = 0.08223552\n",
      "Iteration 46, loss = 0.08144645\n",
      "Iteration 47, loss = 0.08121637\n",
      "Iteration 48, loss = 0.08067893\n",
      "Iteration 49, loss = 0.08085716\n",
      "Iteration 50, loss = 0.08066155\n",
      "Iteration 51, loss = 0.08004372\n",
      "Iteration 52, loss = 0.08013447\n",
      "Iteration 53, loss = 0.07977591\n",
      "Iteration 54, loss = 0.07965036\n",
      "Iteration 55, loss = 0.07944386\n",
      "Iteration 56, loss = 0.07946776\n",
      "Iteration 57, loss = 0.07925961\n",
      "Iteration 58, loss = 0.07914650\n",
      "Iteration 59, loss = 0.07929907\n",
      "Iteration 60, loss = 0.07894741\n",
      "Iteration 61, loss = 0.07908353\n",
      "Iteration 62, loss = 0.07883906\n",
      "Iteration 63, loss = 0.07907499\n",
      "Iteration 64, loss = 0.07903927\n",
      "Iteration 65, loss = 0.07924408\n",
      "Iteration 66, loss = 0.07911657\n",
      "Iteration 67, loss = 0.07904405\n",
      "Iteration 68, loss = 0.07849868\n",
      "Iteration 69, loss = 0.07857384\n",
      "Iteration 70, loss = 0.07875606\n",
      "Iteration 71, loss = 0.07825730\n",
      "Iteration 72, loss = 0.07837397\n",
      "Iteration 73, loss = 0.07842687\n",
      "Iteration 74, loss = 0.07808086\n",
      "Iteration 75, loss = 0.07820606\n",
      "Iteration 76, loss = 0.07881078\n",
      "Iteration 77, loss = 0.07923678\n",
      "Iteration 78, loss = 0.08155256\n",
      "Iteration 79, loss = 0.08076599\n",
      "Iteration 80, loss = 0.07974083\n",
      "Iteration 81, loss = 0.07954408\n",
      "Iteration 82, loss = 0.07903504\n",
      "Iteration 83, loss = 0.07838954\n",
      "Iteration 84, loss = 0.07840932\n",
      "Iteration 85, loss = 0.07808193\n",
      "Training loss did not improve more than tol=0.000100 for 10 consecutive epochs. Stopping.\n"
     ]
    },
    {
     "data": {
      "text/html": [
       "<style>#sk-container-id-1 {color: black;background-color: white;}#sk-container-id-1 pre{padding: 0;}#sk-container-id-1 div.sk-toggleable {background-color: white;}#sk-container-id-1 label.sk-toggleable__label {cursor: pointer;display: block;width: 100%;margin-bottom: 0;padding: 0.3em;box-sizing: border-box;text-align: center;}#sk-container-id-1 label.sk-toggleable__label-arrow:before {content: \"▸\";float: left;margin-right: 0.25em;color: #696969;}#sk-container-id-1 label.sk-toggleable__label-arrow:hover:before {color: black;}#sk-container-id-1 div.sk-estimator:hover label.sk-toggleable__label-arrow:before {color: black;}#sk-container-id-1 div.sk-toggleable__content {max-height: 0;max-width: 0;overflow: hidden;text-align: left;background-color: #f0f8ff;}#sk-container-id-1 div.sk-toggleable__content pre {margin: 0.2em;color: black;border-radius: 0.25em;background-color: #f0f8ff;}#sk-container-id-1 input.sk-toggleable__control:checked~div.sk-toggleable__content {max-height: 200px;max-width: 100%;overflow: auto;}#sk-container-id-1 input.sk-toggleable__control:checked~label.sk-toggleable__label-arrow:before {content: \"▾\";}#sk-container-id-1 div.sk-estimator input.sk-toggleable__control:checked~label.sk-toggleable__label {background-color: #d4ebff;}#sk-container-id-1 div.sk-label input.sk-toggleable__control:checked~label.sk-toggleable__label {background-color: #d4ebff;}#sk-container-id-1 input.sk-hidden--visually {border: 0;clip: rect(1px 1px 1px 1px);clip: rect(1px, 1px, 1px, 1px);height: 1px;margin: -1px;overflow: hidden;padding: 0;position: absolute;width: 1px;}#sk-container-id-1 div.sk-estimator {font-family: monospace;background-color: #f0f8ff;border: 1px dotted black;border-radius: 0.25em;box-sizing: border-box;margin-bottom: 0.5em;}#sk-container-id-1 div.sk-estimator:hover {background-color: #d4ebff;}#sk-container-id-1 div.sk-parallel-item::after {content: \"\";width: 100%;border-bottom: 1px solid gray;flex-grow: 1;}#sk-container-id-1 div.sk-label:hover label.sk-toggleable__label {background-color: #d4ebff;}#sk-container-id-1 div.sk-serial::before {content: \"\";position: absolute;border-left: 1px solid gray;box-sizing: border-box;top: 0;bottom: 0;left: 50%;z-index: 0;}#sk-container-id-1 div.sk-serial {display: flex;flex-direction: column;align-items: center;background-color: white;padding-right: 0.2em;padding-left: 0.2em;position: relative;}#sk-container-id-1 div.sk-item {position: relative;z-index: 1;}#sk-container-id-1 div.sk-parallel {display: flex;align-items: stretch;justify-content: center;background-color: white;position: relative;}#sk-container-id-1 div.sk-item::before, #sk-container-id-1 div.sk-parallel-item::before {content: \"\";position: absolute;border-left: 1px solid gray;box-sizing: border-box;top: 0;bottom: 0;left: 50%;z-index: -1;}#sk-container-id-1 div.sk-parallel-item {display: flex;flex-direction: column;z-index: 1;position: relative;background-color: white;}#sk-container-id-1 div.sk-parallel-item:first-child::after {align-self: flex-end;width: 50%;}#sk-container-id-1 div.sk-parallel-item:last-child::after {align-self: flex-start;width: 50%;}#sk-container-id-1 div.sk-parallel-item:only-child::after {width: 0;}#sk-container-id-1 div.sk-dashed-wrapped {border: 1px dashed gray;margin: 0 0.4em 0.5em 0.4em;box-sizing: border-box;padding-bottom: 0.4em;background-color: white;}#sk-container-id-1 div.sk-label label {font-family: monospace;font-weight: bold;display: inline-block;line-height: 1.2em;}#sk-container-id-1 div.sk-label-container {text-align: center;}#sk-container-id-1 div.sk-container {/* jupyter's `normalize.less` sets `[hidden] { display: none; }` but bootstrap.min.css set `[hidden] { display: none !important; }` so we also need the `!important` here to be able to override the default hidden behavior on the sphinx rendered scikit-learn.org. See: https://github.com/scikit-learn/scikit-learn/issues/21755 */display: inline-block !important;position: relative;}#sk-container-id-1 div.sk-text-repr-fallback {display: none;}</style><div id=\"sk-container-id-1\" class=\"sk-top-container\"><div class=\"sk-text-repr-fallback\"><pre>MLPClassifier(alpha=0.1, batch_size=100, hidden_layer_sizes=100,\n",
       "              learning_rate_init=0.01, max_iter=100, random_state=0,\n",
       "              solver=&#x27;sgd&#x27;, verbose=10)</pre><b>In a Jupyter environment, please rerun this cell to show the HTML representation or trust the notebook. <br />On GitHub, the HTML representation is unable to render, please try loading this page with nbviewer.org.</b></div><div class=\"sk-container\" hidden><div class=\"sk-item\"><div class=\"sk-estimator sk-toggleable\"><input class=\"sk-toggleable__control sk-hidden--visually\" id=\"sk-estimator-id-1\" type=\"checkbox\" checked><label for=\"sk-estimator-id-1\" class=\"sk-toggleable__label sk-toggleable__label-arrow\">MLPClassifier</label><div class=\"sk-toggleable__content\"><pre>MLPClassifier(alpha=0.1, batch_size=100, hidden_layer_sizes=100,\n",
       "              learning_rate_init=0.01, max_iter=100, random_state=0,\n",
       "              solver=&#x27;sgd&#x27;, verbose=10)</pre></div></div></div></div></div>"
      ],
      "text/plain": [
       "MLPClassifier(alpha=0.1, batch_size=100, hidden_layer_sizes=100,\n",
       "              learning_rate_init=0.01, max_iter=100, random_state=0,\n",
       "              solver='sgd', verbose=10)"
      ]
     },
     "execution_count": 90,
     "metadata": {},
     "output_type": "execute_result"
    }
   ],
   "source": [
    "from sklearn.neural_network import MLPClassifier\n",
    "\n",
    "# Multilayer perceptron from scikit learn with 1 hidden layer, 100 hidden units\n",
    "# stochastic gradient descent with batch size 100. learning rate = 0.01, L2 regularization parameter = 1e-1, \n",
    "mlp = MLPClassifier(hidden_layer_sizes=(100), batch_size=100, max_iter=100, alpha=1e-1,\n",
    "                    solver='sgd', verbose=10, tol=1e-4, random_state=0,\n",
    "                    learning_rate_init=0.01)\n",
    "\n",
    "mlp.fit(X_train_std, y_train)"
   ]
  },
  {
   "cell_type": "markdown",
   "id": "33358191",
   "metadata": {},
   "source": [
    "### Plot the cost change"
   ]
  },
  {
   "cell_type": "code",
   "execution_count": 91,
   "id": "ceb89cc7",
   "metadata": {},
   "outputs": [
    {
     "data": {
      "image/png": "[encoded data removed]",
      "text/plain": [
       "<Figure size 640x480 with 1 Axes>"
      ]
     },
     "metadata": {},
     "output_type": "display_data"
    }
   ],
   "source": [
    "# plot the loss. use loss_curve_\n",
    "plt.plot(mlp.loss_curve_)\n",
    "plt.show()"
   ]
  },
  {
   "cell_type": "markdown",
   "id": "5d902dc7",
   "metadata": {},
   "source": [
    "### Accuracy of the model"
   ]
  },
  {
   "cell_type": "code",
   "execution_count": 92,
   "id": "8fcddf9a",
   "metadata": {},
   "outputs": [
    {
     "name": "stdout",
     "output_type": "stream",
     "text": [
      "Train accuracy : 0.9978\n",
      "Train accuracy : 0.9779\n"
     ]
    }
   ],
   "source": [
    "# Train and test accuracy\n",
    "acc = mlp.score(X_train_std, y_train)\n",
    "print(\"Train accuracy : %.4f\" % acc)\n",
    "acc = mlp.score(X_test_std, y_test)\n",
    "print(\"Train accuracy : %.4f\" % acc)"
   ]
  },
  {
   "cell_type": "markdown",
   "id": "f435253d",
   "metadata": {},
   "source": [
    "### Classification test"
   ]
  },
  {
   "cell_type": "code",
   "execution_count": 93,
   "id": "4da5e163",
   "metadata": {},
   "outputs": [
    {
     "data": {
      "image/png": "[encoded data removed]",
      "text/plain": [
       "<Figure size 640x480 with 1 Axes>"
      ]
     },
     "metadata": {},
     "output_type": "display_data"
    }
   ],
   "source": [
    "# show image 63000\n",
    "ex = X[63000]\n",
    "ex_image = ex.reshape(28, 28)\n",
    "plt.imshow(ex_image, cmap='Greys')\n",
    "plt.show()"
   ]
  },
  {
   "cell_type": "code",
   "execution_count": 94,
   "id": "08609384",
   "metadata": {},
   "outputs": [
    {
     "name": "stdout",
     "output_type": "stream",
     "text": [
      "The image is number :  2\n"
     ]
    }
   ],
   "source": [
    "# classification - predict label of image 63000\n",
    "pred = nn.predict([ex])\n",
    "print(\"The image is number : \", pred[0])"
   ]
  },
  {
   "cell_type": "markdown",
   "id": "fd2acc68",
   "metadata": {},
   "source": [
    "### Examples of incorrect classification"
   ]
  },
  {
   "cell_type": "code",
   "execution_count": 97,
   "id": "4e6b0d6a",
   "metadata": {},
   "outputs": [
    {
     "name": "stdout",
     "output_type": "stream",
     "text": [
      "total 479 images are incorrectly classified\n",
      "samples(t:true label, p:predicted label):\n"
     ]
    },
    {
     "data": {
      "image/png": "[encoded data removed]",
      "text/plain": [
       "<Figure size 640x480 with 10 Axes>"
      ]
     },
     "metadata": {},
     "output_type": "display_data"
    }
   ],
   "source": [
    "# check the incorrect results\n",
    "mistake_img = X_test[y_test != y_test_pred]\n",
    "true_lab = y_test[y_test != y_test_pred]\n",
    "pred_lab = y_test_pred[y_test != y_test_pred]\n",
    "\n",
    "print(\"total %d images are incorrectly classified\" % mistake_img.shape[0])\n",
    "print(\"samples(t:true label, p:predicted label):\") \n",
    "\n",
    "# show the misclassified image examples\n",
    "fig, ax = plt.subplots(nrows=2, ncols=5, sharex=True, sharey=True)\n",
    "ax = ax.flatten()\n",
    "for i in range(10):\n",
    "    img = mistake_img[true_lab == i][0].reshape(28, 28)\n",
    "    ax[i].imshow(img, cmap='Greys')\n",
    "    ax[i].set_title('t: %d p: %d' % (true_lab[true_lab == i][0], pred_lab[true_lab == i][0]))\n",
    "\n",
    "plt.show()"
   ]
  },
  {
   "cell_type": "markdown",
   "id": "0c0d1d80",
   "metadata": {},
   "source": [
    "### Number of parameters"
   ]
  },
  {
   "cell_type": "code",
   "execution_count": 96,
   "id": "0c01896b",
   "metadata": {},
   "outputs": [
    {
     "name": "stdout",
     "output_type": "stream",
     "text": [
      "shape of w[0]  (784, 100)\n",
      "shape of b[0]  (100,)\n",
      "shape of w[1]  (100, 10)\n",
      "shape of b[1]  (10,)\n",
      "total number of parameters =  79510\n"
     ]
    }
   ],
   "source": [
    "# check the total number of parameters\n",
    "# parameters are mlp.coefs_ and mlp.intercepts_\n",
    "print(\"shape of w[0] \", mlp.coefs_[0].shape)\n",
    "print(\"shape of b[0] \", mlp.intercepts_[0].shape)\n",
    "print(\"shape of w[1] \", mlp.coefs_[1].shape)\n",
    "print(\"shape of b[1] \", mlp.intercepts_[1].shape)\n",
    "print(\"total number of parameters = \", mlp.coefs_[0].shape[0]*mlp.coefs_[0].shape[1] + mlp.intercepts_[0].shape[0]\n",
    "                                     + mlp.coefs_[1].shape[0]*mlp.coefs_[1].shape[1] + mlp.intercepts_[1].shape[0])"
   ]
  },
  {
   "cell_type": "markdown",
   "id": "c5b42a0c",
   "metadata": {},
   "source": [
    "### Visualize parameters"
   ]
  },
  {
   "cell_type": "code",
   "execution_count": 98,
   "id": "2cb7031c",
   "metadata": {},
   "outputs": [
    {
     "data": {
      "text/plain": [
       "(784, 100)"
      ]
     },
     "execution_count": 98,
     "metadata": {},
     "output_type": "execute_result"
    }
   ],
   "source": [
    "# weights of hidden layer\n",
    "mlp.coefs_[0].shape"
   ]
  },
  {
   "cell_type": "code",
   "execution_count": 99,
   "id": "644836b5",
   "metadata": {},
   "outputs": [
    {
     "data": {
      "image/png": "[encoded data removed]",
      "text/plain": [
       "<Figure size 600x600 with 100 Axes>"
      ]
     },
     "metadata": {},
     "output_type": "display_data"
    }
   ],
   "source": [
    "# display weights of hidden layer (784, 100)\n",
    "\n",
    "fig, axes = plt.subplots(10, 10, figsize=(6, 6))\n",
    "plt.figsize = 20\n",
    "\n",
    "# use global min / max to ensure all weights are shown on the same scale\n",
    "vmin, vmax = mlp.coefs_[0].min(), mlp.coefs_[0].max()\n",
    "for coef, ax in zip(mlp.coefs_[0].T, axes.ravel()):\n",
    "    ax.matshow(coef.reshape(28, 28), cmap=plt.cm.gray, vmin=.5 * vmin, vmax=.5 * vmax)\n",
    "    ax.set_xticks(())\n",
    "    ax.set_yticks(())\n",
    "\n",
    "plt.show()"
   ]
  },
  {
   "cell_type": "code",
   "execution_count": 100,
   "id": "c0f70260",
   "metadata": {},
   "outputs": [
    {
     "data": {
      "text/plain": [
       "(100, 10)"
      ]
     },
     "execution_count": 100,
     "metadata": {},
     "output_type": "execute_result"
    }
   ],
   "source": [
    "# weights of output layer\n",
    "mlp.coefs_[1].shape"
   ]
  },
  {
   "cell_type": "code",
   "execution_count": 101,
   "id": "e11f1dd9",
   "metadata": {},
   "outputs": [
    {
     "data": {
      "image/png": "[encoded data removed]",
      "text/plain": [
       "<Figure size 640x480 with 10 Axes>"
      ]
     },
     "metadata": {},
     "output_type": "display_data"
    }
   ],
   "source": [
    "# display weights of output layer (100, 10)\n",
    "fig, axes = plt.subplots(1, 10)\n",
    "\n",
    "# use global min / max to ensure all weights are shown on the same scale\n",
    "vmin, vmax = mlp.coefs_[1].min(), mlp.coefs_[1].max()\n",
    "for coef, ax in zip(mlp.coefs_[1].T, axes.ravel()):\n",
    "    ax.matshow(coef.reshape(10, 10), cmap=plt.cm.gray, vmin=.5 * vmin, vmax=.5 * vmax)\n",
    "    ax.set_xticks(())\n",
    "    ax.set_yticks(())\n",
    "\n",
    "plt.show()"
   ]
  }
 ],
 "metadata": {
  "kernelspec": {
   "display_name": "Python 3 (ipykernel)",
   "language": "python",
   "name": "python3"
  },
  "language_info": {
   "codemirror_mode": {
    "name": "ipython",
    "version": 3
   },
   "file_extension": ".py",
   "mimetype": "text/x-python",
   "name": "python",
   "nbconvert_exporter": "python",
   "pygments_lexer": "ipython3",
   "version": "3.10.9"
  },
  "toc": {
   "base_numbering": 1,
   "nav_menu": {},
   "number_sections": true,
   "sideBar": true,
   "skip_h1_title": false,
   "title_cell": "Table of Contents",
   "title_sidebar": "Contents",
   "toc_cell": false,
   "toc_position": {},
   "toc_section_display": true,
   "toc_window_display": false
  },
  "varInspector": {
   "cols": {
    "lenName": 16,
    "lenType": 16,
    "lenVar": 40
   },
   "kernels_config": {
    "python": {
     "delete_cmd_postfix": "",
     "delete_cmd_prefix": "del ",
     "library": "var_list.py",
     "varRefreshCmd": "print(var_dic_list())"
    },
    "r": {
     "delete_cmd_postfix": ") ",
     "delete_cmd_prefix": "rm(",
     "library": "var_list.r",
     "varRefreshCmd": "cat(var_dic_list()) "
    }
   },
   "types_to_exclude": [
    "module",
    "function",
    "builtin_function_or_method",
    "instance",
    "_Feature"
   ],
   "window_display": false
  }
 },
 "nbformat": 4,
 "nbformat_minor": 5
}
