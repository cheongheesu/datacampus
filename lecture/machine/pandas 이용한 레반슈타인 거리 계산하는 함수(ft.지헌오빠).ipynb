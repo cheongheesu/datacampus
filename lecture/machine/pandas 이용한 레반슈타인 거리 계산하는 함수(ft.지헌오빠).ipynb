{
 "cells": [
  {
   "cell_type": "code",
   "execution_count": 3,
   "id": "a528e52b",
   "metadata": {},
   "outputs": [],
   "source": [
    "import pandas as pd\n",
    "import numpy as np"
   ]
  },
  {
   "cell_type": "code",
   "execution_count": 4,
   "id": "b96024b1",
   "metadata": {},
   "outputs": [],
   "source": [
    "syllables=np.array([chr(code) for code in range(44032,55204)])\n",
    "syllables=syllables.reshape(19,21,28)\n",
    "from jamo import h2j, j2hcj"
   ]
  },
  {
   "cell_type": "code",
   "execution_count": 14,
   "id": "48522f22",
   "metadata": {},
   "outputs": [],
   "source": [
    "def lev(s1, s2):\n",
    "    m,n = len(s1),len(s2)                    # 두 문장의 길이를 각각 m,n으로 선언\n",
    "    dp = pd.DataFrame([[0] * (n + 1)] * (m + 1)) # [0]로 채워진 n*m 크기의 dataframe 생성\n",
    "    c = int(input('cost를 입력하세요.:'))        # 점수(c) 입력 (기본값은 1)\n",
    "\n",
    "    # 문자열 비교 및 편집 거리 계산\n",
    "    for i in range(1, m + 1):           # 가로(m)의 [0]을 대체하여 수 입력하기 위해 반복\n",
    "        for j in range(1, n + 1):           # 세로(n)의 [0]을 대체하여 수 입력하기 위해 반복\n",
    "            if s1[i - 1] == s2[j - 1]:          # 글자가 동일한 경우:\n",
    "                dp.iloc[i, j] = dp.iloc[i - 1, j - 1] # 대각선([i - 1, j - 1])의 숫자를 그대로 입력\n",
    "            else:                               # 동일하지 않은 경우:\n",
    "                dp.iloc[i, j] = min(                  # ------------------------------\n",
    "                    dp.iloc[i - 1, j],                   #   삭제시 앞(좌측)의 수,   |\n",
    "                    dp.iloc[i, j - 1],                   #   삽입시 위(상단)의 수,   |\n",
    "                    dp.iloc[i - 1, j - 1]                #   변경시 대각선 위의 수   |\n",
    "                                                         # 이 세 가지 중 최솟값에 <---\n",
    "                ) + c                                 # c 를 더하여 입력\n",
    "    # dataframe의 최우측 최하단 (m,n) 인덱스 값 반환\n",
    "    return dp.iloc[m, n]"
   ]
  },
  {
   "cell_type": "code",
   "execution_count": 16,
   "id": "17ab40a1",
   "metadata": {},
   "outputs": [
    {
     "name": "stdout",
     "output_type": "stream",
     "text": [
      "첫째 문장: 제동생고기\n",
      "둘째 문장: 내동생고기\n",
      "cost를 입력하세요.:1\n",
      "레반슈타인 거리:  1\n"
     ]
    }
   ],
   "source": [
    "#음절 단위 레반슈타인 거리 계산\n",
    "s1=input('첫째 문장: ')\n",
    "s2=input('둘째 문장: ')\n",
    "print('레반슈타인 거리: ',lev(s1,s2))"
   ]
  },
  {
   "cell_type": "code",
   "execution_count": 19,
   "id": "ae473e6f",
   "metadata": {},
   "outputs": [
    {
     "name": "stdout",
     "output_type": "stream",
     "text": [
      "첫째 문장: 내동생고기\n",
      "둘째 문장: 냉동생고기\n",
      "첫째 문장 분해:  ㄴㅐㄷㅗㅇㅅㅐㅇㄱㅗㄱㅣ\n",
      "둘째 문장 분해:  ㄴㅐㅇㄷㅗㅇㅅㅐㅇㄱㅗㄱㅣ\n",
      "cost를 입력하세요.:1\n",
      "레반슈타인 거리:  1\n"
     ]
    }
   ],
   "source": [
    "#자모음 단위 레반슈타인 거리 계산\n",
    "s1=input('첫째 문장: ')\n",
    "s2=input('둘째 문장: ')\n",
    "morph_s1=(j2hcj(h2j(s1)))\n",
    "morph_s2=(j2hcj(h2j(s2)))\n",
    "print(f'첫째 문장 분해: ',j2hcj(h2j(s1)))\n",
    "print(f'둘째 문장 분해: ',j2hcj(h2j(s2)))\n",
    "print('레반슈타인 거리: ',lev(morph_s1,morph_s2))"
   ]
  }
 ],
 "metadata": {
  "kernelspec": {
   "display_name": "Python 3 (ipykernel)",
   "language": "python",
   "name": "python3"
  },
  "language_info": {
   "codemirror_mode": {
    "name": "ipython",
    "version": 3
   },
   "file_extension": ".py",
   "mimetype": "text/x-python",
   "name": "python",
   "nbconvert_exporter": "python",
   "pygments_lexer": "ipython3",
   "version": "3.10.9"
  },
  "toc": {
   "base_numbering": 1,
   "nav_menu": {},
   "number_sections": true,
   "sideBar": true,
   "skip_h1_title": false,
   "title_cell": "Table of Contents",
   "title_sidebar": "Contents",
   "toc_cell": false,
   "toc_position": {},
   "toc_section_display": true,
   "toc_window_display": false
  },
  "varInspector": {
   "cols": {
    "lenName": 16,
    "lenType": 16,
    "lenVar": 40
   },
   "kernels_config": {
    "python": {
     "delete_cmd_postfix": "",
     "delete_cmd_prefix": "del ",
     "library": "var_list.py",
     "varRefreshCmd": "print(var_dic_list())"
    },
    "r": {
     "delete_cmd_postfix": ") ",
     "delete_cmd_prefix": "rm(",
     "library": "var_list.r",
     "varRefreshCmd": "cat(var_dic_list()) "
    }
   },
   "types_to_exclude": [
    "module",
    "function",
    "builtin_function_or_method",
    "instance",
    "_Feature"
   ],
   "window_display": false
  }
 },
 "nbformat": 4,
 "nbformat_minor": 5
}
