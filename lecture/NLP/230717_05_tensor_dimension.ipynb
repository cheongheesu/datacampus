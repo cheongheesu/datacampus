{
 "cells": [
  {
   "cell_type": "code",
   "execution_count": 1,
   "id": "handled-melissa",
   "metadata": {},
   "outputs": [],
   "source": [
    "import torch"
   ]
  },
  {
   "cell_type": "markdown",
   "id": "sexual-weekly",
   "metadata": {},
   "source": [
    "### 임의의 텐서를 하나 생성합니다."
   ]
  },
  {
   "cell_type": "code",
   "execution_count": 2,
   "id": "original-penalty",
   "metadata": {},
   "outputs": [
    {
     "data": {
      "text/plain": [
       "tensor([[[ 1.,  2.,  3.,  4.],\n",
       "         [ 5.,  6.,  7.,  8.],\n",
       "         [ 9., 10., 11., 12.]],\n",
       "\n",
       "        [[13., 14., 15., 16.],\n",
       "         [17., 18., 19., 20.],\n",
       "         [21., 22., 23., 24.]]])"
      ]
     },
     "execution_count": 2,
     "metadata": {},
     "output_type": "execute_result"
    }
   ],
   "source": [
    "a = list(range(1,25))\n",
    "x = torch.Tensor(a).view(2,3,4)\n",
    "x"
   ]
  },
  {
   "cell_type": "markdown",
   "id": "caring-connection",
   "metadata": {},
   "source": [
    "### 뷰(view)로 텐서의 차원 조작"
   ]
  },
  {
   "cell_type": "code",
   "execution_count": 3,
   "id": "streaming-diversity",
   "metadata": {},
   "outputs": [
    {
     "name": "stdout",
     "output_type": "stream",
     "text": [
      "tensor([[ 1.,  2.,  3.,  4.],\n",
      "        [ 5.,  6.,  7.,  8.],\n",
      "        [ 9., 10., 11., 12.],\n",
      "        [13., 14., 15., 16.],\n",
      "        [17., 18., 19., 20.],\n",
      "        [21., 22., 23., 24.]])\n",
      "torch.Size([6, 4])\n"
     ]
    }
   ],
   "source": [
    "# -1 을 넣으면 토치에서 알아서 계산해서, 제일 마지막 차원의 사이즈가 4가 되도록 맞춰줍니다.\n",
    "x_view = x.view(-1, 4)    \n",
    "print(x_view)\n",
    "print(x_view.size())"
   ]
  },
  {
   "cell_type": "code",
   "execution_count": 4,
   "id": "infrared-gardening",
   "metadata": {},
   "outputs": [
    {
     "name": "stdout",
     "output_type": "stream",
     "text": [
      "tensor([[[ 1.,  2.],\n",
      "         [ 3.,  4.],\n",
      "         [ 5.,  6.],\n",
      "         [ 7.,  8.],\n",
      "         [ 9., 10.],\n",
      "         [11., 12.]],\n",
      "\n",
      "        [[13., 14.],\n",
      "         [15., 16.],\n",
      "         [17., 18.],\n",
      "         [19., 20.],\n",
      "         [21., 22.],\n",
      "         [23., 24.]]])\n",
      "torch.Size([2, 6, 2])\n"
     ]
    }
   ],
   "source": [
    "# 이런 식으로 중간에 넣어도 됩니다.\n",
    "x_view = x.view(2,-1, 2)    \n",
    "print(x_view)\n",
    "print(x_view.size())"
   ]
  },
  {
   "cell_type": "code",
   "execution_count": 5,
   "id": "otherwise-strip",
   "metadata": {},
   "outputs": [
    {
     "ename": "RuntimeError",
     "evalue": "only one dimension can be inferred",
     "output_type": "error",
     "traceback": [
      "\u001b[0;31m---------------------------------------------------------------------------\u001b[0m",
      "\u001b[0;31mRuntimeError\u001b[0m                              Traceback (most recent call last)",
      "\u001b[0;32m<ipython-input-5-e5a26226cf20>\u001b[0m in \u001b[0;36m<module>\u001b[0;34m\u001b[0m\n\u001b[1;32m      1\u001b[0m \u001b[0;31m# 근데 이렇게 '네가 알아서 계산해'를 두 개 이상 의뢰하면 도대체 어떻게 하란 거냐고 화냅니다. 우리 모두 적당히 합시다.\u001b[0m\u001b[0;34m\u001b[0m\u001b[0;34m\u001b[0m\u001b[0;34m\u001b[0m\u001b[0m\n\u001b[0;32m----> 2\u001b[0;31m \u001b[0mx_view\u001b[0m \u001b[0;34m=\u001b[0m \u001b[0mx\u001b[0m\u001b[0;34m.\u001b[0m\u001b[0mview\u001b[0m\u001b[0;34m(\u001b[0m\u001b[0;36m2\u001b[0m\u001b[0;34m,\u001b[0m\u001b[0;34m-\u001b[0m\u001b[0;36m1\u001b[0m\u001b[0;34m,\u001b[0m\u001b[0;34m-\u001b[0m\u001b[0;36m1\u001b[0m\u001b[0;34m,\u001b[0m \u001b[0;36m2\u001b[0m\u001b[0;34m)\u001b[0m\u001b[0;34m\u001b[0m\u001b[0;34m\u001b[0m\u001b[0m\n\u001b[0m\u001b[1;32m      3\u001b[0m \u001b[0mprint\u001b[0m\u001b[0;34m(\u001b[0m\u001b[0mx_view\u001b[0m\u001b[0;34m)\u001b[0m\u001b[0;34m\u001b[0m\u001b[0;34m\u001b[0m\u001b[0m\n\u001b[1;32m      4\u001b[0m \u001b[0mprint\u001b[0m\u001b[0;34m(\u001b[0m\u001b[0mx_view\u001b[0m\u001b[0;34m.\u001b[0m\u001b[0msize\u001b[0m\u001b[0;34m(\u001b[0m\u001b[0;34m)\u001b[0m\u001b[0;34m)\u001b[0m\u001b[0;34m\u001b[0m\u001b[0;34m\u001b[0m\u001b[0m\n",
      "\u001b[0;31mRuntimeError\u001b[0m: only one dimension can be inferred"
     ]
    }
   ],
   "source": [
    "# 근데 이렇게 '네가 알아서 계산해'를 두 개 이상 의뢰하면 도대체 어떻게 하란 거냐고 화냅니다. 우리 모두 적당히 합시다.\n",
    "x_view = x.view(2,-1,-1, 2)    \n",
    "print(x_view)\n",
    "print(x_view.size())"
   ]
  },
  {
   "cell_type": "code",
   "execution_count": 6,
   "id": "japanese-colombia",
   "metadata": {},
   "outputs": [
    {
     "name": "stdout",
     "output_type": "stream",
     "text": [
      "tensor([[[ 1.,  2.,  3.],\n",
      "         [ 4.,  5.,  6.],\n",
      "         [ 7.,  8.,  9.],\n",
      "         [10., 11., 12.]],\n",
      "\n",
      "        [[13., 14., 15.],\n",
      "         [16., 17., 18.],\n",
      "         [19., 20., 21.],\n",
      "         [22., 23., 24.]]])\n",
      "torch.Size([2, 4, 3])\n"
     ]
    }
   ],
   "source": [
    "# 제일 처음 설정한 x의 차원 사이즈는 [2,3,4]였어요. view 함수로 뒤의 두 차원에 대해 transpose도 할 수 있을까요?\n",
    "x_view = x.view(2,4,3)\n",
    "print(x_view)\n",
    "print(x_view.size())"
   ]
  },
  {
   "cell_type": "markdown",
   "id": "million-monroe",
   "metadata": {},
   "source": [
    "-> 결과를 보시면 아시겠지만 안 됩니다. 차원 사이즈는 맞아보여도 이게 전치는 아니죠."
   ]
  },
  {
   "cell_type": "markdown",
   "id": "underlying-qualification",
   "metadata": {},
   "source": [
    "### transpose"
   ]
  },
  {
   "cell_type": "code",
   "execution_count": 7,
   "id": "cloudy-dinner",
   "metadata": {},
   "outputs": [
    {
     "name": "stdout",
     "output_type": "stream",
     "text": [
      "tensor([[[ 1.,  5.,  9.],\n",
      "         [ 2.,  6., 10.],\n",
      "         [ 3.,  7., 11.],\n",
      "         [ 4.,  8., 12.]],\n",
      "\n",
      "        [[13., 17., 21.],\n",
      "         [14., 18., 22.],\n",
      "         [15., 19., 23.],\n",
      "         [16., 20., 24.]]])\n",
      "torch.Size([2, 4, 3])\n"
     ]
    }
   ],
   "source": [
    "# 그래서 등장한 transpose! 아래는 1번째 차원과 2번째 차원을 transpose 시켜달라는 요구입니다.\n",
    "x_transpose = x.transpose(1, 2)  #[2,3,4]\n",
    "print(x_transpose)\n",
    "print(x_transpose.size())"
   ]
  },
  {
   "cell_type": "markdown",
   "id": "proprietary-terrorist",
   "metadata": {},
   "source": [
    "-> 이게 transpose지!! 쾌감이 좀 느껴지네요"
   ]
  },
  {
   "cell_type": "code",
   "execution_count": 8,
   "id": "pleasant-magnitude",
   "metadata": {},
   "outputs": [
    {
     "name": "stdout",
     "output_type": "stream",
     "text": [
      "tensor([[[ 1.,  5.,  9.],\n",
      "         [ 2.,  6., 10.],\n",
      "         [ 3.,  7., 11.],\n",
      "         [ 4.,  8., 12.]],\n",
      "\n",
      "        [[13., 17., 21.],\n",
      "         [14., 18., 22.],\n",
      "         [15., 19., 23.],\n",
      "         [16., 20., 24.]]])\n",
      "torch.Size([2, 4, 3])\n"
     ]
    }
   ],
   "source": [
    "# transpose 안의 숫자를 뒤바꿔도 될까요? 됩니다.\n",
    "x_transpose = x.transpose(2, 1)\n",
    "print(x_transpose)\n",
    "print(x_transpose.size())\n",
    "# 어차피 두 개가 바뀌는 거니까 뭐가 먼저 나와도 상관 없습니다."
   ]
  },
  {
   "cell_type": "code",
   "execution_count": 9,
   "id": "bronze-converter",
   "metadata": {},
   "outputs": [
    {
     "name": "stdout",
     "output_type": "stream",
     "text": [
      "torch.Size([2, 4])\n"
     ]
    },
    {
     "data": {
      "text/plain": [
       "tensor([[1., 2., 3., 4.],\n",
       "        [5., 6., 7., 8.]])"
      ]
     },
     "execution_count": 9,
     "metadata": {},
     "output_type": "execute_result"
    }
   ],
   "source": [
    "# 한편, 차원이 하나 더 깊어지게 하거나 사이즈가 1인 차원이면 밖으로 꺼내는 것도 있습니다. 이번에는 조금 다른 텐서를 만들어볼게요.\n",
    "a = list(range(1, 9))\n",
    "x = torch.Tensor(a).view(2,4)\n",
    "x.size()\n",
    "x\n",
    "print(x.size())\n",
    "x"
   ]
  },
  {
   "cell_type": "code",
   "execution_count": 10,
   "id": "proper-sheriff",
   "metadata": {},
   "outputs": [
    {
     "name": "stdout",
     "output_type": "stream",
     "text": [
      "tensor([[[1., 2., 3., 4.],\n",
      "         [5., 6., 7., 8.]]])\n",
      "torch.Size([1, 2, 4])\n"
     ]
    }
   ],
   "source": [
    "# 깊어져라 얍!\n",
    "x_unsqueeze = x.unsqueeze(0)\n",
    "print(x_unsqueeze)\n",
    "print(x_unsqueeze.size())"
   ]
  },
  {
   "cell_type": "code",
   "execution_count": 11,
   "id": "canadian-semester",
   "metadata": {},
   "outputs": [
    {
     "name": "stdout",
     "output_type": "stream",
     "text": [
      "tensor([[[1., 2., 3., 4.]],\n",
      "\n",
      "        [[5., 6., 7., 8.]]])\n",
      "torch.Size([2, 1, 4])\n"
     ]
    }
   ],
   "source": [
    "# 얍!\n",
    "x_unsqueeze = x.unsqueeze(1)\n",
    "print(x_unsqueeze)\n",
    "print(x_unsqueeze.size())"
   ]
  },
  {
   "cell_type": "code",
   "execution_count": 12,
   "id": "comparative-shakespeare",
   "metadata": {},
   "outputs": [
    {
     "name": "stdout",
     "output_type": "stream",
     "text": [
      "tensor([[[1.],\n",
      "         [2.],\n",
      "         [3.],\n",
      "         [4.]],\n",
      "\n",
      "        [[5.],\n",
      "         [6.],\n",
      "         [7.],\n",
      "         [8.]]])\n",
      "torch.Size([2, 4, 1])\n"
     ]
    }
   ],
   "source": [
    "# 얍!\n",
    "x_unsqueeze = x.unsqueeze(2)\n",
    "print(x_unsqueeze)\n",
    "print(x_unsqueeze.size())"
   ]
  },
  {
   "cell_type": "code",
   "execution_count": 13,
   "id": "antique-poster",
   "metadata": {},
   "outputs": [
    {
     "ename": "IndexError",
     "evalue": "Dimension out of range (expected to be in range of [-3, 2], but got 3)",
     "output_type": "error",
     "traceback": [
      "\u001b[0;31m---------------------------------------------------------------------------\u001b[0m",
      "\u001b[0;31mIndexError\u001b[0m                                Traceback (most recent call last)",
      "\u001b[0;32m<ipython-input-13-e5c66f80720e>\u001b[0m in \u001b[0;36m<module>\u001b[0;34m\u001b[0m\n\u001b[1;32m      1\u001b[0m \u001b[0;31m# 얍!\u001b[0m\u001b[0;34m\u001b[0m\u001b[0;34m\u001b[0m\u001b[0;34m\u001b[0m\u001b[0m\n\u001b[0;32m----> 2\u001b[0;31m \u001b[0mx_unsqueeze\u001b[0m \u001b[0;34m=\u001b[0m \u001b[0mx\u001b[0m\u001b[0;34m.\u001b[0m\u001b[0munsqueeze\u001b[0m\u001b[0;34m(\u001b[0m\u001b[0;36m3\u001b[0m\u001b[0;34m)\u001b[0m\u001b[0;34m\u001b[0m\u001b[0;34m\u001b[0m\u001b[0m\n\u001b[0m\u001b[1;32m      3\u001b[0m \u001b[0mprint\u001b[0m\u001b[0;34m(\u001b[0m\u001b[0mx_unsqueeze\u001b[0m\u001b[0;34m)\u001b[0m\u001b[0;34m\u001b[0m\u001b[0;34m\u001b[0m\u001b[0m\n\u001b[1;32m      4\u001b[0m \u001b[0mprint\u001b[0m\u001b[0;34m(\u001b[0m\u001b[0mx_unsqueeze\u001b[0m\u001b[0;34m.\u001b[0m\u001b[0msize\u001b[0m\u001b[0;34m(\u001b[0m\u001b[0;34m)\u001b[0m\u001b[0;34m)\u001b[0m\u001b[0;34m\u001b[0m\u001b[0;34m\u001b[0m\u001b[0m\n\u001b[1;32m      5\u001b[0m \u001b[0;31m#  ... 적당히 합시다.\u001b[0m\u001b[0;34m\u001b[0m\u001b[0;34m\u001b[0m\u001b[0;34m\u001b[0m\u001b[0m\n",
      "\u001b[0;31mIndexError\u001b[0m: Dimension out of range (expected to be in range of [-3, 2], but got 3)"
     ]
    }
   ],
   "source": [
    "# 얍!\n",
    "x_unsqueeze = x.unsqueeze(3)\n",
    "print(x_unsqueeze)\n",
    "print(x_unsqueeze.size())\n",
    "#  ... 적당히 합시다."
   ]
  },
  {
   "cell_type": "markdown",
   "id": "super-edmonton",
   "metadata": {},
   "source": [
    "### 실습0. 그럼 이제 unsqueezed 된 애들을 데리고 squeeze 하면서 어떻게 되는지 확인해보세요!"
   ]
  },
  {
   "cell_type": "code",
   "execution_count": null,
   "id": "automated-visibility",
   "metadata": {},
   "outputs": [],
   "source": []
  }
 ],
 "metadata": {
  "kernelspec": {
   "display_name": "Python 3 (ipykernel)",
   "language": "python",
   "name": "python3"
  },
  "language_info": {
   "codemirror_mode": {
    "name": "ipython",
    "version": 3
   },
   "file_extension": ".py",
   "mimetype": "text/x-python",
   "name": "python",
   "nbconvert_exporter": "python",
   "pygments_lexer": "ipython3",
   "version": "3.10.9"
  },
  "toc": {
   "base_numbering": 1,
   "nav_menu": {},
   "number_sections": true,
   "sideBar": true,
   "skip_h1_title": false,
   "title_cell": "Table of Contents",
   "title_sidebar": "Contents",
   "toc_cell": false,
   "toc_position": {},
   "toc_section_display": true,
   "toc_window_display": false
  },
  "varInspector": {
   "cols": {
    "lenName": 16,
    "lenType": 16,
    "lenVar": 40
   },
   "kernels_config": {
    "python": {
     "delete_cmd_postfix": "",
     "delete_cmd_prefix": "del ",
     "library": "var_list.py",
     "varRefreshCmd": "print(var_dic_list())"
    },
    "r": {
     "delete_cmd_postfix": ") ",
     "delete_cmd_prefix": "rm(",
     "library": "var_list.r",
     "varRefreshCmd": "cat(var_dic_list()) "
    }
   },
   "types_to_exclude": [
    "module",
    "function",
    "builtin_function_or_method",
    "instance",
    "_Feature"
   ],
   "window_display": false
  }
 },
 "nbformat": 4,
 "nbformat_minor": 5
}
