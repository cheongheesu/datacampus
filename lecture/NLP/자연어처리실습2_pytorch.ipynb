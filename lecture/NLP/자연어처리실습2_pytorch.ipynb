{
 "cells": [
  {
   "cell_type": "markdown",
   "metadata": {
    "id": "l2Oesfi56L6i"
   },
   "source": [
    "# 내 친구 torch를 소개합니다!"
   ]
  },
  {
   "cell_type": "code",
   "execution_count": 1,
   "metadata": {
    "executionInfo": {
     "elapsed": 6236,
     "status": "ok",
     "timestamp": 1689531794162,
     "user": {
      "displayName": "고원희",
      "userId": "10662266247954339731"
     },
     "user_tz": -540
    },
    "id": "biu0xSwv57C5"
   },
   "outputs": [],
   "source": [
    "import torch"
   ]
  },
  {
   "cell_type": "markdown",
   "metadata": {
    "id": "rjiXZVwi6QMq"
   },
   "source": [
    "### 토치는 기본적으로 array적인 성격을 가지고 있는 아이에요"
   ]
  },
  {
   "cell_type": "code",
   "execution_count": 26,
   "metadata": {
    "executionInfo": {
     "elapsed": 3,
     "status": "ok",
     "timestamp": 1689531494508,
     "user": {
      "displayName": "고원희",
      "userId": "10662266247954339731"
     },
     "user_tz": -540
    },
    "id": "yrAs1qzS5lS9"
   },
   "outputs": [],
   "source": [
    "t1 = torch.arange(9)\n",
    "# : tensor([0, 1, 2, 3, 4, 5, 6, 7, 8])"
   ]
  },
  {
   "cell_type": "code",
   "execution_count": 27,
   "metadata": {
    "colab": {
     "base_uri": "https://localhost:8080/"
    },
    "executionInfo": {
     "elapsed": 3,
     "status": "ok",
     "timestamp": 1689531494962,
     "user": {
      "displayName": "고원희",
      "userId": "10662266247954339731"
     },
     "user_tz": -540
    },
    "id": "9uYWBsbR64Pq",
    "outputId": "1886771e-97c5-422a-d146-c6a32d91932c"
   },
   "outputs": [
    {
     "data": {
      "text/plain": [
       "tensor([0, 1, 2, 3, 4, 5, 6, 7, 8])"
      ]
     },
     "execution_count": 27,
     "metadata": {},
     "output_type": "execute_result"
    }
   ],
   "source": [
    "t1"
   ]
  },
  {
   "cell_type": "code",
   "execution_count": 28,
   "metadata": {
    "colab": {
     "base_uri": "https://localhost:8080/"
    },
    "executionInfo": {
     "elapsed": 1,
     "status": "ok",
     "timestamp": 1689531495354,
     "user": {
      "displayName": "고원희",
      "userId": "10662266247954339731"
     },
     "user_tz": -540
    },
    "id": "0tLKnIn652JJ",
    "outputId": "081d1695-bb8c-455a-f058-75e76c657f48"
   },
   "outputs": [
    {
     "data": {
      "text/plain": [
       "torch.Size([9])"
      ]
     },
     "execution_count": 28,
     "metadata": {},
     "output_type": "execute_result"
    }
   ],
   "source": [
    "t1.shape\n",
    "# torch.Size([9])"
   ]
  },
  {
   "cell_type": "code",
   "execution_count": 29,
   "metadata": {
    "colab": {
     "base_uri": "https://localhost:8080/"
    },
    "executionInfo": {
     "elapsed": 2,
     "status": "ok",
     "timestamp": 1689531495693,
     "user": {
      "displayName": "고원희",
      "userId": "10662266247954339731"
     },
     "user_tz": -540
    },
    "id": "_j-iISwr53Ge",
    "outputId": "99a4ba29-955b-4496-a32d-65f957ce8526"
   },
   "outputs": [
    {
     "data": {
      "text/plain": [
       "torch.Tensor"
      ]
     },
     "execution_count": 29,
     "metadata": {},
     "output_type": "execute_result"
    }
   ],
   "source": [
    "type(t1)\n",
    "# torch.Tensor"
   ]
  },
  {
   "cell_type": "code",
   "execution_count": 6,
   "metadata": {
    "executionInfo": {
     "elapsed": 2,
     "status": "ok",
     "timestamp": 1689531337028,
     "user": {
      "displayName": "고원희",
      "userId": "10662266247954339731"
     },
     "user_tz": -540
    },
    "id": "CnSmY8rK6hR2"
   },
   "outputs": [],
   "source": [
    "import numpy as np"
   ]
  },
  {
   "cell_type": "code",
   "execution_count": 10,
   "metadata": {
    "executionInfo": {
     "elapsed": 3,
     "status": "ok",
     "timestamp": 1689531377371,
     "user": {
      "displayName": "고원희",
      "userId": "10662266247954339731"
     },
     "user_tz": -540
    },
    "id": "OLQbeujI6k71"
   },
   "outputs": [],
   "source": [
    "arr = np.arange(9)"
   ]
  },
  {
   "cell_type": "code",
   "execution_count": 11,
   "metadata": {
    "colab": {
     "base_uri": "https://localhost:8080/"
    },
    "executionInfo": {
     "elapsed": 2,
     "status": "ok",
     "timestamp": 1689531377371,
     "user": {
      "displayName": "고원희",
      "userId": "10662266247954339731"
     },
     "user_tz": -540
    },
    "id": "F1ldWdgq6rEB",
    "outputId": "e7be78b8-051e-4579-fd56-60113873d3ec"
   },
   "outputs": [
    {
     "data": {
      "text/plain": [
       "array([0, 1, 2, 3, 4, 5, 6, 7, 8])"
      ]
     },
     "execution_count": 11,
     "metadata": {},
     "output_type": "execute_result"
    }
   ],
   "source": [
    "arr"
   ]
  },
  {
   "cell_type": "code",
   "execution_count": 12,
   "metadata": {
    "colab": {
     "base_uri": "https://localhost:8080/"
    },
    "executionInfo": {
     "elapsed": 2,
     "status": "ok",
     "timestamp": 1689531381829,
     "user": {
      "displayName": "고원희",
      "userId": "10662266247954339731"
     },
     "user_tz": -540
    },
    "id": "aUvsHwbw6nhl",
    "outputId": "bc316e56-773f-48a4-da59-ea44bc94f864"
   },
   "outputs": [
    {
     "data": {
      "text/plain": [
       "(9,)"
      ]
     },
     "execution_count": 12,
     "metadata": {},
     "output_type": "execute_result"
    }
   ],
   "source": [
    "arr.shape"
   ]
  },
  {
   "cell_type": "code",
   "execution_count": 13,
   "metadata": {
    "colab": {
     "base_uri": "https://localhost:8080/"
    },
    "executionInfo": {
     "elapsed": 3,
     "status": "ok",
     "timestamp": 1689531392715,
     "user": {
      "displayName": "고원희",
      "userId": "10662266247954339731"
     },
     "user_tz": -540
    },
    "id": "lm77Zw-O6wpP",
    "outputId": "725a3454-3e43-4910-806e-4e7dde35fd6f"
   },
   "outputs": [
    {
     "data": {
      "text/plain": [
       "numpy.ndarray"
      ]
     },
     "execution_count": 13,
     "metadata": {},
     "output_type": "execute_result"
    }
   ],
   "source": [
    "type(arr)"
   ]
  },
  {
   "cell_type": "markdown",
   "metadata": {
    "id": "YMvf1VdI6Ybw"
   },
   "source": [
    "#### 그래서일까요? Numpy로의 변환도 쉽습니다."
   ]
  },
  {
   "cell_type": "code",
   "execution_count": 31,
   "metadata": {
    "colab": {
     "base_uri": "https://localhost:8080/"
    },
    "executionInfo": {
     "elapsed": 296,
     "status": "ok",
     "timestamp": 1689531504026,
     "user": {
      "displayName": "고원희",
      "userId": "10662266247954339731"
     },
     "user_tz": -540
    },
    "id": "Q15l7r2F6GVU",
    "outputId": "74d125db-b8b6-4154-8102-501f27926970"
   },
   "outputs": [
    {
     "data": {
      "text/plain": [
       "array([0, 1, 2, 3, 4, 5, 6, 7, 8])"
      ]
     },
     "execution_count": 31,
     "metadata": {},
     "output_type": "execute_result"
    }
   ],
   "source": [
    "# tensor를 numpy로 타입 변환\n",
    "t1.numpy()\n",
    "# array([0, 1, 2, 3, 4, 5, 6, 7, 8], dtype = int64)"
   ]
  },
  {
   "cell_type": "markdown",
   "metadata": {
    "id": "_C-Hhmll7a5R"
   },
   "source": [
    "#### Numpy가 하는 건 왠만하면 다 할 수 있습니다!"
   ]
  },
  {
   "cell_type": "code",
   "execution_count": 37,
   "metadata": {
    "colab": {
     "base_uri": "https://localhost:8080/"
    },
    "executionInfo": {
     "elapsed": 4,
     "status": "ok",
     "timestamp": 1689531525502,
     "user": {
      "displayName": "고원희",
      "userId": "10662266247954339731"
     },
     "user_tz": -540
    },
    "id": "KKsLGq-H6d81",
    "outputId": "95ce77e6-dddb-478d-9789-fd89d7b0f84e"
   },
   "outputs": [
    {
     "data": {
      "text/plain": [
       "tensor([[0, 1, 2],\n",
       "        [3, 4, 5],\n",
       "        [6, 7, 8]])"
      ]
     },
     "execution_count": 37,
     "metadata": {},
     "output_type": "execute_result"
    }
   ],
   "source": [
    "t1 = t1.reshape(3, 3)\n",
    "t1\n",
    "# tensor([ [0, 1, 2],\n",
    "#           [3, 4, 5],\n",
    "#           [6, 7, 8] ]])"
   ]
  },
  {
   "cell_type": "code",
   "execution_count": 33,
   "metadata": {
    "executionInfo": {
     "elapsed": 291,
     "status": "ok",
     "timestamp": 1689531506838,
     "user": {
      "displayName": "고원희",
      "userId": "10662266247954339731"
     },
     "user_tz": -540
    },
    "id": "7JHOPJT669mv"
   },
   "outputs": [],
   "source": [
    "t2 = torch.arange(9).reshape(3, 3)"
   ]
  },
  {
   "cell_type": "code",
   "execution_count": 34,
   "metadata": {
    "colab": {
     "base_uri": "https://localhost:8080/"
    },
    "executionInfo": {
     "elapsed": 3,
     "status": "ok",
     "timestamp": 1689531507272,
     "user": {
      "displayName": "고원희",
      "userId": "10662266247954339731"
     },
     "user_tz": -540
    },
    "id": "K6rYjNEH7IYE",
    "outputId": "daf69161-0729-4f04-b8e2-31483d5b3da2"
   },
   "outputs": [
    {
     "data": {
      "text/plain": [
       "tensor([[0, 1, 2],\n",
       "        [3, 4, 5],\n",
       "        [6, 7, 8]])"
      ]
     },
     "execution_count": 34,
     "metadata": {},
     "output_type": "execute_result"
    }
   ],
   "source": [
    "t2"
   ]
  },
  {
   "cell_type": "code",
   "execution_count": 38,
   "metadata": {
    "colab": {
     "base_uri": "https://localhost:8080/"
    },
    "executionInfo": {
     "elapsed": 3,
     "status": "ok",
     "timestamp": 1689531535084,
     "user": {
      "displayName": "고원희",
      "userId": "10662266247954339731"
     },
     "user_tz": -540
    },
    "id": "4eQJdf287Gs0",
    "outputId": "b417c445-7f2f-44c4-d5a8-920b4f75d3b5"
   },
   "outputs": [
    {
     "data": {
      "text/plain": [
       "tensor([[ 0,  2,  4],\n",
       "        [ 6,  8, 10],\n",
       "        [12, 14, 16]])"
      ]
     },
     "execution_count": 38,
     "metadata": {},
     "output_type": "execute_result"
    }
   ],
   "source": [
    "t1 + t2"
   ]
  },
  {
   "cell_type": "markdown",
   "metadata": {
    "id": "QvAoZ1ED7l4u"
   },
   "source": [
    "#### 그럼 여기서 질문이 생기겠죠?\n",
    "Q. \"아니, 넘파이 이용하면 되지, 왜 굳이 파이토치를 만든 거죠?\"  \n",
    "A. 000 때문에!"
   ]
  },
  {
   "cell_type": "code",
   "execution_count": 2,
   "metadata": {
    "colab": {
     "base_uri": "https://localhost:8080/"
    },
    "executionInfo": {
     "elapsed": 4,
     "status": "ok",
     "timestamp": 1689531794163,
     "user": {
      "displayName": "고원희",
      "userId": "10662266247954339731"
     },
     "user_tz": -540
    },
    "id": "iJU0HFw_7I-p",
    "outputId": "bb1a2b25-d59a-4e84-d4ff-8837b0b843a9"
   },
   "outputs": [
    {
     "data": {
      "text/plain": [
       "tensor([[1., 2.],\n",
       "        [3., 4.]])"
      ]
     },
     "execution_count": 2,
     "metadata": {},
     "output_type": "execute_result"
    }
   ],
   "source": [
    "# 2차원 형태의 list를 이용하여 텐서를 생성할 수 있습니다.\n",
    "torch.tensor([[1,2],[3,4.]])\n",
    "# : tensor([[1., 2.],\n",
    "#         [3., 4.]])"
   ]
  },
  {
   "cell_type": "code",
   "execution_count": 3,
   "metadata": {
    "colab": {
     "base_uri": "https://localhost:8080/"
    },
    "executionInfo": {
     "elapsed": 858,
     "status": "ok",
     "timestamp": 1689531795018,
     "user": {
      "displayName": "고원희",
      "userId": "10662266247954339731"
     },
     "user_tz": -540
    },
    "id": "13oeZxNZ8BVc",
    "outputId": "40d86eb5-7c44-48b7-8f2f-4d42a0287345"
   },
   "outputs": [
    {
     "data": {
      "text/plain": [
       "tensor([[1., 2.],\n",
       "        [3., 4.]], device='cuda:0')"
      ]
     },
     "execution_count": 3,
     "metadata": {},
     "output_type": "execute_result"
    }
   ],
   "source": [
    "# device를 지정하면 GPU에 텐서를 만들 수 있습니다.\n",
    "torch.tensor([[1,2],[3,4.]], device=\"cuda:0\")\n",
    "# : tensor([[1., 2.],\n",
    "#         [3., 4.]], device='cuda:0')"
   ]
  },
  {
   "cell_type": "code",
   "execution_count": 4,
   "metadata": {
    "colab": {
     "base_uri": "https://localhost:8080/"
    },
    "executionInfo": {
     "elapsed": 306,
     "status": "ok",
     "timestamp": 1689531806943,
     "user": {
      "displayName": "고원희",
      "userId": "10662266247954339731"
     },
     "user_tz": -540
    },
    "id": "gDwd_6s68DDk",
    "outputId": "fdc51ed3-7f00-453a-b79f-69034ae71f02"
   },
   "outputs": [
    {
     "data": {
      "text/plain": [
       "tensor([[1., 2.],\n",
       "        [3., 4.]], dtype=torch.float64)"
      ]
     },
     "execution_count": 4,
     "metadata": {},
     "output_type": "execute_result"
    }
   ],
   "source": [
    "# dtype을 이용하여 텐서의 데이터 형태를 지정할 수도 있습니다.\n",
    "torch.tensor([[1,2],[3,4.]], dtype=torch.float64)\n",
    "# : tensor([[1., 2.],\n",
    "#         [3., 4.]], dtype=torch.float64)"
   ]
  },
  {
   "cell_type": "code",
   "execution_count": 5,
   "metadata": {
    "colab": {
     "base_uri": "https://localhost:8080/"
    },
    "executionInfo": {
     "elapsed": 2,
     "status": "ok",
     "timestamp": 1689531816569,
     "user": {
      "displayName": "고원희",
      "userId": "10662266247954339731"
     },
     "user_tz": -540
    },
    "id": "TPcH_npH8XCy",
    "outputId": "84363631-c060-4ae5-c8d1-af164a1c46ff"
   },
   "outputs": [
    {
     "data": {
      "text/plain": [
       "tensor([0, 1, 2, 3, 4, 5, 6, 7, 8, 9])"
      ]
     },
     "execution_count": 5,
     "metadata": {},
     "output_type": "execute_result"
    }
   ],
   "source": [
    "# arange를 이용한 1차원 텐서\n",
    "torch.arange(0, 10)\n",
    "# : tensor([0, 1, 2, 3, 4, 5, 6, 7, 8, 9])"
   ]
  },
  {
   "cell_type": "code",
   "execution_count": 6,
   "metadata": {
    "colab": {
     "base_uri": "https://localhost:8080/"
    },
    "executionInfo": {
     "elapsed": 2,
     "status": "ok",
     "timestamp": 1689531822929,
     "user": {
      "displayName": "고원희",
      "userId": "10662266247954339731"
     },
     "user_tz": -540
    },
    "id": "p-FKtCj68ZgS",
    "outputId": "ac32c42f-9ee9-4f60-b221-f17f4043a395"
   },
   "outputs": [
    {
     "data": {
      "text/plain": [
       "tensor([[0., 0., 0., 0., 0.],\n",
       "        [0., 0., 0., 0., 0.],\n",
       "        [0., 0., 0., 0., 0.]], device='cuda:0')"
      ]
     },
     "execution_count": 6,
     "metadata": {},
     "output_type": "execute_result"
    }
   ],
   "source": [
    "# 모든 값이 0인 3 x 5의 텐서를 작성하여 to 메소드로 GPU에 전송\n",
    "torch.zeros(3, 5).to(\"cuda:0\")\n",
    "# :tensor([[0., 0., 0., 0., 0.],\n",
    "#         [0., 0., 0., 0., 0.],\n",
    "#         [0., 0., 0., 0., 0.]], device='cuda:0')"
   ]
  },
  {
   "cell_type": "code",
   "execution_count": 10,
   "metadata": {
    "colab": {
     "base_uri": "https://localhost:8080/"
    },
    "executionInfo": {
     "elapsed": 3,
     "status": "ok",
     "timestamp": 1689531922785,
     "user": {
      "displayName": "고원희",
      "userId": "10662266247954339731"
     },
     "user_tz": -540
    },
    "id": "l9XJKkFN8wmk",
    "outputId": "db08a6b8-357f-463a-811b-d5a04e8a4a43"
   },
   "outputs": [
    {
     "data": {
      "text/plain": [
       "tensor([[1., 1., 1., 1., 1.],\n",
       "        [1., 1., 1., 1., 1.],\n",
       "        [1., 1., 1., 1., 1.]], device='cuda:0')"
      ]
     },
     "execution_count": 10,
     "metadata": {},
     "output_type": "execute_result"
    }
   ],
   "source": [
    "# 모든 값이 1인 3 x 5의 텐서를 작성하여 to 메소드로 GPU에 전송\n",
    "torch.ones(3, 5).to(\"cuda:0\")\n",
    "# :tensor([[1., 1., 1., 1., 1.],\n",
    "#         [1., 1., 1., 1., 1.],\n",
    "#         [1., 1., 1., 1., 1.]], device='cuda:0')"
   ]
  },
  {
   "cell_type": "code",
   "execution_count": 7,
   "metadata": {
    "colab": {
     "base_uri": "https://localhost:8080/"
    },
    "executionInfo": {
     "elapsed": 2,
     "status": "ok",
     "timestamp": 1689531840813,
     "user": {
      "displayName": "고원희",
      "userId": "10662266247954339731"
     },
     "user_tz": -540
    },
    "id": "DxRZN7az8bDp",
    "outputId": "7e9bbf2a-325b-4b5e-aeac-b3413b163b8c"
   },
   "outputs": [
    {
     "data": {
      "text/plain": [
       "tensor([[ 1.7086,  0.3570,  1.8505, -0.9447, -1.2399],\n",
       "        [ 0.2351, -0.3140, -1.5484, -0.9172,  1.7181],\n",
       "        [-0.2475,  0.6715, -0.0958, -0.8747,  0.6665]])"
      ]
     },
     "execution_count": 7,
     "metadata": {},
     "output_type": "execute_result"
    }
   ],
   "source": [
    "# normal distribution으로 3 x 5 텐서를 작성\n",
    "torch.randn(3, 5)"
   ]
  },
  {
   "cell_type": "code",
   "execution_count": 8,
   "metadata": {
    "colab": {
     "base_uri": "https://localhost:8080/"
    },
    "executionInfo": {
     "elapsed": 3,
     "status": "ok",
     "timestamp": 1689531855382,
     "user": {
      "displayName": "고원희",
      "userId": "10662266247954339731"
     },
     "user_tz": -540
    },
    "id": "77G_wybb8fav",
    "outputId": "125fbcae-87e7-4b56-d737-f1a3b7ff8ba2"
   },
   "outputs": [
    {
     "data": {
      "text/plain": [
       "torch.Size([3, 5])"
      ]
     },
     "execution_count": 8,
     "metadata": {},
     "output_type": "execute_result"
    }
   ],
   "source": [
    "# 텐서의 shape은 size 메서드로 확인\n",
    "t = torch.randn(3, 5)\n",
    "t.size()\n",
    "# : torch.Size([3, 5])"
   ]
  },
  {
   "cell_type": "code",
   "execution_count": 9,
   "metadata": {
    "executionInfo": {
     "elapsed": 2,
     "status": "ok",
     "timestamp": 1689531872020,
     "user": {
      "displayName": "고원희",
      "userId": "10662266247954339731"
     },
     "user_tz": -540
    },
    "id": "c_lxIgF68i8s"
   },
   "outputs": [],
   "source": [
    "# GPU 상의 텐서는 to 메서드로 CPU의 텐서로 변환 후 ndarray로 변환해야 합니다.\n",
    "t = torch.tensor([[1,2],[3,4.]], device=\"cuda:0\")\n",
    "x = t.to(\"cpu\").numpy()"
   ]
  },
  {
   "cell_type": "markdown",
   "metadata": {
    "id": "yoLxnQ4Q8tS-"
   },
   "source": [
    "## 좋아... 배열의 성격을 가진다는 건 확실히 알겠어. 그럼 (모든 배열 구조가 그렇듯이) 인덱스로 자료에 접근이 가능하겠네? -> YES!!!😆"
   ]
  },
  {
   "cell_type": "code",
   "execution_count": 12,
   "metadata": {
    "executionInfo": {
     "elapsed": 481,
     "status": "ok",
     "timestamp": 1689532020867,
     "user": {
      "displayName": "고원희",
      "userId": "10662266247954339731"
     },
     "user_tz": -540
    },
    "id": "fUg3pgxo8nDk"
   },
   "outputs": [],
   "source": [
    "t = torch.tensor([\n",
    "    [1,2,3],[4,5,6.]\n",
    "])\n",
    "\n"
   ]
  },
  {
   "cell_type": "code",
   "execution_count": 13,
   "metadata": {
    "colab": {
     "base_uri": "https://localhost:8080/"
    },
    "executionInfo": {
     "elapsed": 2,
     "status": "ok",
     "timestamp": 1689532033141,
     "user": {
      "displayName": "고원희",
      "userId": "10662266247954339731"
     },
     "user_tz": -540
    },
    "id": "EPdbuXXN9IZh",
    "outputId": "8c563f83-f6f8-403d-85b8-ce4a2e3c77f1"
   },
   "outputs": [
    {
     "data": {
      "text/plain": [
       "tensor(3.)"
      ]
     },
     "execution_count": 13,
     "metadata": {},
     "output_type": "execute_result"
    }
   ],
   "source": [
    "# 인덱스 접근\n",
    "t[0, 2]\n",
    "# : tensor(3.)"
   ]
  },
  {
   "cell_type": "code",
   "execution_count": 14,
   "metadata": {
    "colab": {
     "base_uri": "https://localhost:8080/"
    },
    "executionInfo": {
     "elapsed": 430,
     "status": "ok",
     "timestamp": 1689532038804,
     "user": {
      "displayName": "고원희",
      "userId": "10662266247954339731"
     },
     "user_tz": -540
    },
    "id": "asrFx37e9OWT",
    "outputId": "a2c995fb-aa57-43f8-8a2b-b05b2308aa2e"
   },
   "outputs": [
    {
     "data": {
      "text/plain": [
       "tensor([[ 1., 20.],\n",
       "        [ 4., 20.]])"
      ]
     },
     "execution_count": 14,
     "metadata": {},
     "output_type": "execute_result"
    }
   ],
   "source": [
    "# 슬라이스로 접근\n",
    "t[:, :2]\n",
    "# : tensor([[1., 2.],\n",
    "#         [4., 5.]])"
   ]
  },
  {
   "cell_type": "code",
   "execution_count": 15,
   "metadata": {
    "colab": {
     "base_uri": "https://localhost:8080/"
    },
    "executionInfo": {
     "elapsed": 2,
     "status": "ok",
     "timestamp": 1689532043169,
     "user": {
      "displayName": "고원희",
      "userId": "10662266247954339731"
     },
     "user_tz": -540
    },
    "id": "c6pYEqNn9PnO",
    "outputId": "80afb32a-90b4-4f29-eaeb-7c1aacd32e76"
   },
   "outputs": [
    {
     "data": {
      "text/plain": [
       "tensor([20.,  4., 20., 20.])"
      ]
     },
     "execution_count": 15,
     "metadata": {},
     "output_type": "execute_result"
    }
   ],
   "source": [
    "# 마스크 배열을 이용하여 True 값만 추출\n",
    "t[t > 3]\n",
    "# : tensor([4., 5., 6.])"
   ]
  },
  {
   "cell_type": "code",
   "execution_count": 16,
   "metadata": {
    "executionInfo": {
     "elapsed": 1,
     "status": "ok",
     "timestamp": 1689532052811,
     "user": {
      "displayName": "고원희",
      "userId": "10662266247954339731"
     },
     "user_tz": -540
    },
    "id": "HtPcHzHo9Qve"
   },
   "outputs": [],
   "source": [
    "# 슬라이스를 이용하여 일괄 대입\n",
    "t[:, 1] = 10"
   ]
  },
  {
   "cell_type": "code",
   "execution_count": null,
   "metadata": {
    "id": "tUVxLDjA9TF6"
   },
   "outputs": [],
   "source": [
    "# 마스크 배열을 사용하여 일괄 대입\n",
    "t[t > 5] = 20"
   ]
  },
  {
   "cell_type": "markdown",
   "metadata": {
    "id": "neLAKn739Yez"
   },
   "source": [
    "## 근데 Numpy는 왠만한 연산이 다 가능하던데, 너도 가능하니? -> YES!!!😆"
   ]
  },
  {
   "cell_type": "code",
   "execution_count": 17,
   "metadata": {
    "executionInfo": {
     "elapsed": 2,
     "status": "ok",
     "timestamp": 1689532152817,
     "user": {
      "displayName": "고원희",
      "userId": "10662266247954339731"
     },
     "user_tz": -540
    },
    "id": "CXt3wQPb9haj"
   },
   "outputs": [],
   "source": [
    "# 길이 3인 벡터\n",
    "v = torch.tensor([1,2,3.])\n",
    "w = torch.tensor([0, 10, 20])"
   ]
  },
  {
   "cell_type": "code",
   "execution_count": 18,
   "metadata": {
    "executionInfo": {
     "elapsed": 357,
     "status": "ok",
     "timestamp": 1689532160720,
     "user": {
      "displayName": "고원희",
      "userId": "10662266247954339731"
     },
     "user_tz": -540
    },
    "id": "1ZGzvB5y9rlw"
   },
   "outputs": [],
   "source": [
    "# 2 x 3의 행렬\n",
    "m = torch.tensor([\n",
    "    [0, 1, 2], [100, 200, 300.]\n",
    "])"
   ]
  },
  {
   "cell_type": "code",
   "execution_count": 19,
   "metadata": {
    "executionInfo": {
     "elapsed": 1,
     "status": "ok",
     "timestamp": 1689532167414,
     "user": {
      "displayName": "고원희",
      "userId": "10662266247954339731"
     },
     "user_tz": -540
    },
    "id": "Q2N3enbL9taE"
   },
   "outputs": [],
   "source": [
    "# 벡터와 스칼라의 덧셈\n",
    "v2 = v + 10"
   ]
  },
  {
   "cell_type": "code",
   "execution_count": 20,
   "metadata": {
    "executionInfo": {
     "elapsed": 2,
     "status": "ok",
     "timestamp": 1689532173921,
     "user": {
      "displayName": "고원희",
      "userId": "10662266247954339731"
     },
     "user_tz": -540
    },
    "id": "f25t8zKf9vH2"
   },
   "outputs": [],
   "source": [
    "# 제곱\n",
    "v2 = v ** 2"
   ]
  },
  {
   "cell_type": "code",
   "execution_count": 21,
   "metadata": {
    "executionInfo": {
     "elapsed": 1,
     "status": "ok",
     "timestamp": 1689532180920,
     "user": {
      "displayName": "고원희",
      "userId": "10662266247954339731"
     },
     "user_tz": -540
    },
    "id": "HnxjF_fO9wvq"
   },
   "outputs": [],
   "source": [
    "# 동일 길이의 벡터간 덧셈 연산\n",
    "z =  v - w"
   ]
  },
  {
   "cell_type": "code",
   "execution_count": 22,
   "metadata": {
    "executionInfo": {
     "elapsed": 1,
     "status": "ok",
     "timestamp": 1689532187134,
     "user": {
      "displayName": "고원희",
      "userId": "10662266247954339731"
     },
     "user_tz": -540
    },
    "id": "udbmooD59yaz"
   },
   "outputs": [],
   "source": [
    "# 여러 가지 조합\n",
    "u = 2 * v - w / 10 + 6.0"
   ]
  },
  {
   "cell_type": "code",
   "execution_count": 23,
   "metadata": {
    "executionInfo": {
     "elapsed": 1,
     "status": "ok",
     "timestamp": 1689532194298,
     "user": {
      "displayName": "고원희",
      "userId": "10662266247954339731"
     },
     "user_tz": -540
    },
    "id": "DAwOjzox9z8y"
   },
   "outputs": [],
   "source": [
    "# 행렬과 스칼라 곱\n",
    "m2 = m * 2.0\n"
   ]
  },
  {
   "cell_type": "code",
   "execution_count": 24,
   "metadata": {
    "colab": {
     "base_uri": "https://localhost:8080/"
    },
    "executionInfo": {
     "elapsed": 284,
     "status": "ok",
     "timestamp": 1689532206018,
     "user": {
      "displayName": "고원희",
      "userId": "10662266247954339731"
     },
     "user_tz": -540
    },
    "id": "2NUfR9jd91of",
    "outputId": "19212e7b-8978-459d-b564-258187b3e543"
   },
   "outputs": [
    {
     "data": {
      "text/plain": [
       "tensor([[  1.,   3.,   5.],\n",
       "        [101., 202., 303.]])"
      ]
     },
     "execution_count": 24,
     "metadata": {},
     "output_type": "execute_result"
    }
   ],
   "source": [
    "\n",
    "# (2, 3)인 행렬과 (3,)인 벡터간의 덧셈이므로 브로드캐스팅 발생\n",
    "m + v\n",
    "\n",
    "# :tensor([[  1.,   3.,   5.],\n",
    "#         [101., 202., 303.]])\n"
   ]
  },
  {
   "cell_type": "code",
   "execution_count": 25,
   "metadata": {
    "colab": {
     "base_uri": "https://localhost:8080/"
    },
    "executionInfo": {
     "elapsed": 2,
     "status": "ok",
     "timestamp": 1689532210376,
     "user": {
      "displayName": "고원희",
      "userId": "10662266247954339731"
     },
     "user_tz": -540
    },
    "id": "IWqlCuO594fj",
    "outputId": "ed530a2a-4d32-4d6e-8599-971ca67dd7dd"
   },
   "outputs": [
    {
     "data": {
      "text/plain": [
       "tensor([[  0.,   2.,   4.],\n",
       "        [200., 400., 600.]])"
      ]
     },
     "execution_count": 25,
     "metadata": {},
     "output_type": "execute_result"
    }
   ],
   "source": [
    "# 행렬 간 처리\n",
    "m + m\n",
    "\n",
    "# :tensor([[  0.,   2.,   4.],\n",
    "#         [200., 400., 600.]])"
   ]
  },
  {
   "cell_type": "markdown",
   "metadata": {
    "id": "8lFDm_1E-KCX"
   },
   "source": [
    "## 이렇게 멋진 친구를 내 손으로 만드는 방법 2가지!😆"
   ]
  },
  {
   "cell_type": "markdown",
   "metadata": {
    "id": "i-jjoSdg-iwE"
   },
   "source": [
    "### 첫번째, 사이즈만 정해주기!"
   ]
  },
  {
   "cell_type": "markdown",
   "metadata": {
    "id": "M1bEV7_b-qi2"
   },
   "source": [
    "#### 1-(1) \"안에 들어가는 값이 뭐가 되든 일단 2 x 3의 텐서를 만들어줘봐!\""
   ]
  },
  {
   "cell_type": "code",
   "execution_count": 27,
   "metadata": {
    "colab": {
     "base_uri": "https://localhost:8080/"
    },
    "executionInfo": {
     "elapsed": 3,
     "status": "ok",
     "timestamp": 1689532325860,
     "user": {
      "displayName": "고원희",
      "userId": "10662266247954339731"
     },
     "user_tz": -540
    },
    "id": "at_rvFz095mr",
    "outputId": "bc6e6d92-4466-4393-d944-558c4f8e9bb6"
   },
   "outputs": [
    {
     "name": "stdout",
     "output_type": "stream",
     "text": [
      "tensor([[0.4489, 0.3527, 0.2917],\n",
      "        [0.9933, 0.5119, 0.6011]])\n"
     ]
    }
   ],
   "source": [
    "t1 = torch.rand(2,3)\n",
    "print(t1)"
   ]
  },
  {
   "cell_type": "markdown",
   "metadata": {
    "id": "ul8SoyIu-_9n"
   },
   "source": [
    "#### 1-(2) \"안에 들어가는 값이 0이 되도록 2 x 3의 텐서를 만들어줘봐!\""
   ]
  },
  {
   "cell_type": "code",
   "execution_count": 28,
   "metadata": {
    "executionInfo": {
     "elapsed": 277,
     "status": "ok",
     "timestamp": 1689532344287,
     "user": {
      "displayName": "고원희",
      "userId": "10662266247954339731"
     },
     "user_tz": -540
    },
    "id": "H5YjzHq8-TAC"
   },
   "outputs": [],
   "source": [
    "zeros = torch.zeros(2,3)"
   ]
  },
  {
   "cell_type": "code",
   "execution_count": 29,
   "metadata": {
    "colab": {
     "base_uri": "https://localhost:8080/"
    },
    "executionInfo": {
     "elapsed": 2,
     "status": "ok",
     "timestamp": 1689532348832,
     "user": {
      "displayName": "고원희",
      "userId": "10662266247954339731"
     },
     "user_tz": -540
    },
    "id": "flXbr1Te-aTD",
    "outputId": "f4e5bfdc-3bc3-48f7-add6-aa250cace8dc"
   },
   "outputs": [
    {
     "data": {
      "text/plain": [
       "tensor([[0., 0., 0.],\n",
       "        [0., 0., 0.]])"
      ]
     },
     "execution_count": 29,
     "metadata": {},
     "output_type": "execute_result"
    }
   ],
   "source": [
    "zeros"
   ]
  },
  {
   "cell_type": "code",
   "execution_count": 31,
   "metadata": {
    "colab": {
     "base_uri": "https://localhost:8080/"
    },
    "executionInfo": {
     "elapsed": 3,
     "status": "ok",
     "timestamp": 1689532367943,
     "user": {
      "displayName": "고원희",
      "userId": "10662266247954339731"
     },
     "user_tz": -540
    },
    "id": "o6gC9PxM-baf",
    "outputId": "5df7aea7-be45-43bd-c1a3-6b1ef5ac161d"
   },
   "outputs": [
    {
     "data": {
      "text/plain": [
       "tensor([[0., 0., 0.],\n",
       "        [0., 0., 0.]])"
      ]
     },
     "execution_count": 31,
     "metadata": {},
     "output_type": "execute_result"
    }
   ],
   "source": [
    "torch.zeros_like(t1)"
   ]
  },
  {
   "cell_type": "markdown",
   "metadata": {
    "id": "g3_fTm54_HdU"
   },
   "source": [
    "#### 1-(3) \"안에 들어가는 값이 1이 되도록 2 x 3의 텐서를 만들어줘봐!\""
   ]
  },
  {
   "cell_type": "code",
   "execution_count": 33,
   "metadata": {
    "executionInfo": {
     "elapsed": 2,
     "status": "ok",
     "timestamp": 1689532556451,
     "user": {
      "displayName": "고원희",
      "userId": "10662266247954339731"
     },
     "user_tz": -540
    },
    "id": "phpvA3l--eCG"
   },
   "outputs": [],
   "source": [
    "ones = torch.ones(2,3)"
   ]
  },
  {
   "cell_type": "code",
   "execution_count": 34,
   "metadata": {
    "colab": {
     "base_uri": "https://localhost:8080/"
    },
    "executionInfo": {
     "elapsed": 2,
     "status": "ok",
     "timestamp": 1689532559021,
     "user": {
      "displayName": "고원희",
      "userId": "10662266247954339731"
     },
     "user_tz": -540
    },
    "id": "PuxM5cxb_Las",
    "outputId": "820abd15-1fee-43fb-a3d3-421444b45c94"
   },
   "outputs": [
    {
     "data": {
      "text/plain": [
       "tensor([[1., 1., 1.],\n",
       "        [1., 1., 1.]])"
      ]
     },
     "execution_count": 34,
     "metadata": {},
     "output_type": "execute_result"
    }
   ],
   "source": [
    "ones"
   ]
  },
  {
   "cell_type": "code",
   "execution_count": 35,
   "metadata": {
    "colab": {
     "base_uri": "https://localhost:8080/"
    },
    "executionInfo": {
     "elapsed": 2,
     "status": "ok",
     "timestamp": 1689532569599,
     "user": {
      "displayName": "고원희",
      "userId": "10662266247954339731"
     },
     "user_tz": -540
    },
    "id": "3LJztVDt_Oud",
    "outputId": "541e5cb3-631c-4cbb-b86e-c79e40a59ce1"
   },
   "outputs": [
    {
     "data": {
      "text/plain": [
       "tensor([[1., 1., 1.],\n",
       "        [1., 1., 1.]])"
      ]
     },
     "execution_count": 35,
     "metadata": {},
     "output_type": "execute_result"
    }
   ],
   "source": [
    "torch.ones_like(t1)"
   ]
  },
  {
   "cell_type": "markdown",
   "metadata": {
    "id": "f0hG63Rl_jI3"
   },
   "source": [
    "### 두번째, 값을 지정해주기!"
   ]
  },
  {
   "cell_type": "markdown",
   "metadata": {
    "id": "PWrXMajc_4Sf"
   },
   "source": [
    "#### 2-(1) \"리스트를 줄 테니 텐서를 다오\""
   ]
  },
  {
   "cell_type": "code",
   "execution_count": 38,
   "metadata": {
    "colab": {
     "base_uri": "https://localhost:8080/"
    },
    "executionInfo": {
     "elapsed": 281,
     "status": "ok",
     "timestamp": 1689532709356,
     "user": {
      "displayName": "고원희",
      "userId": "10662266247954339731"
     },
     "user_tz": -540
    },
    "id": "ZF0NjZt7_RTw",
    "outputId": "992aa6b5-254d-4218-eb12-e5e278f720ad"
   },
   "outputs": [
    {
     "data": {
      "text/plain": [
       "tensor([[1., 2., 3.],\n",
       "        [4., 5., 6.]])"
      ]
     },
     "execution_count": 38,
     "metadata": {},
     "output_type": "execute_result"
    }
   ],
   "source": [
    "ls = [\n",
    "    [1,2,3],[4,5,6.]\n",
    "]\n",
    "t = torch.tensor(ls)\n",
    "t"
   ]
  },
  {
   "cell_type": "markdown",
   "metadata": {
    "id": "g1ywACAV_8Sh"
   },
   "source": [
    "#### 2-(2) \"넘파이 어레이를 줄 테니 텐서를 다오\""
   ]
  },
  {
   "cell_type": "code",
   "execution_count": 41,
   "metadata": {
    "executionInfo": {
     "elapsed": 2,
     "status": "ok",
     "timestamp": 1689532813797,
     "user": {
      "displayName": "고원희",
      "userId": "10662266247954339731"
     },
     "user_tz": -540
    },
    "id": "dk8Y1SOmALsO"
   },
   "outputs": [],
   "source": [
    "import numpy as np"
   ]
  },
  {
   "cell_type": "code",
   "execution_count": 44,
   "metadata": {
    "executionInfo": {
     "elapsed": 1,
     "status": "ok",
     "timestamp": 1689532852007,
     "user": {
      "displayName": "고원희",
      "userId": "10662266247954339731"
     },
     "user_tz": -540
    },
    "id": "YTYRlINl_yZ9"
   },
   "outputs": [],
   "source": [
    "arr = np.ndarray(shape=(2,3), dtype=int,buffer=np.array([1,2,3,4,5,6]))\n",
    "# array([[1, 2, 3],\n",
    "#        [4, 5, 6]])"
   ]
  },
  {
   "cell_type": "code",
   "execution_count": 46,
   "metadata": {
    "colab": {
     "base_uri": "https://localhost:8080/"
    },
    "executionInfo": {
     "elapsed": 2,
     "status": "ok",
     "timestamp": 1689532875631,
     "user": {
      "displayName": "고원희",
      "userId": "10662266247954339731"
     },
     "user_tz": -540
    },
    "id": "cDa9jelFAIwE",
    "outputId": "6ce4b134-4ccf-48c1-f8e2-d1700195af36"
   },
   "outputs": [
    {
     "data": {
      "text/plain": [
       "tensor([[1, 2, 3],\n",
       "        [4, 5, 6]])"
      ]
     },
     "execution_count": 46,
     "metadata": {},
     "output_type": "execute_result"
    }
   ],
   "source": [
    "t = torch.from_numpy(arr)\n",
    "# tensor([[1, 2, 3],\n",
    "#         [4, 5, 6]], dtype=torch.int32)\n",
    "t"
   ]
  },
  {
   "cell_type": "code",
   "execution_count": 47,
   "metadata": {
    "colab": {
     "base_uri": "https://localhost:8080/"
    },
    "executionInfo": {
     "elapsed": 3,
     "status": "ok",
     "timestamp": 1689532881416,
     "user": {
      "displayName": "고원희",
      "userId": "10662266247954339731"
     },
     "user_tz": -540
    },
    "id": "AZJko9CxARLf",
    "outputId": "115d41ef-8cb9-4833-9941-2ca0f00d0851"
   },
   "outputs": [
    {
     "data": {
      "text/plain": [
       "tensor([[1., 2., 3.],\n",
       "        [4., 5., 6.]])"
      ]
     },
     "execution_count": 47,
     "metadata": {},
     "output_type": "execute_result"
    }
   ],
   "source": [
    "t.float()"
   ]
  },
  {
   "cell_type": "code",
   "execution_count": null,
   "metadata": {
    "id": "PsL6jCz7AdcT"
   },
   "outputs": [],
   "source": []
  }
 ],
 "metadata": {
  "accelerator": "GPU",
  "colab": {
   "authorship_tag": "ABX9TyNOgRWNCP6jSMdOlb5kOKq4",
   "gpuType": "T4",
   "provenance": []
  },
  "kernelspec": {
   "display_name": "Python 3 (ipykernel)",
   "language": "python",
   "name": "python3"
  },
  "language_info": {
   "codemirror_mode": {
    "name": "ipython",
    "version": 3
   },
   "file_extension": ".py",
   "mimetype": "text/x-python",
   "name": "python",
   "nbconvert_exporter": "python",
   "pygments_lexer": "ipython3",
   "version": "3.10.9"
  },
  "toc": {
   "base_numbering": 1,
   "nav_menu": {},
   "number_sections": true,
   "sideBar": true,
   "skip_h1_title": false,
   "title_cell": "Table of Contents",
   "title_sidebar": "Contents",
   "toc_cell": false,
   "toc_position": {},
   "toc_section_display": true,
   "toc_window_display": false
  },
  "varInspector": {
   "cols": {
    "lenName": 16,
    "lenType": 16,
    "lenVar": 40
   },
   "kernels_config": {
    "python": {
     "delete_cmd_postfix": "",
     "delete_cmd_prefix": "del ",
     "library": "var_list.py",
     "varRefreshCmd": "print(var_dic_list())"
    },
    "r": {
     "delete_cmd_postfix": ") ",
     "delete_cmd_prefix": "rm(",
     "library": "var_list.r",
     "varRefreshCmd": "cat(var_dic_list()) "
    }
   },
   "types_to_exclude": [
    "module",
    "function",
    "builtin_function_or_method",
    "instance",
    "_Feature"
   ],
   "window_display": false
  }
 },
 "nbformat": 4,
 "nbformat_minor": 1
}
