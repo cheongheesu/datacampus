{
 "cells": [
  {
   "cell_type": "code",
   "execution_count": 1,
   "id": "pregnant-arkansas",
   "metadata": {},
   "outputs": [],
   "source": [
    "import torch"
   ]
  },
  {
   "cell_type": "markdown",
   "id": "documentary-behavior",
   "metadata": {},
   "source": [
    "### 실습1. 사이즈가 2 by 3인 tensor A, 동일하게 사이즈가 2 by 3인 tensor B를 생성하고, \n",
    "### B를 전치시켜 dot product 값을 구해보자."
   ]
  },
  {
   "cell_type": "code",
   "execution_count": 2,
   "id": "pending-disorder",
   "metadata": {},
   "outputs": [
    {
     "name": "stdout",
     "output_type": "stream",
     "text": [
      "tensor([[0, 1, 2],\n",
      "        [1, 2, 3]])\n",
      "tensor([[-1,  0,  1],\n",
      "        [ 1,  0,  1]])\n"
     ]
    }
   ],
   "source": [
    "A = torch.tensor([[0,1,2], [1,2,3]])\n",
    "B = torch.tensor([[-1,0,1],[1,0,1]])\n",
    "print(A)\n",
    "print(B)"
   ]
  },
  {
   "cell_type": "code",
   "execution_count": 3,
   "id": "atmospheric-staff",
   "metadata": {},
   "outputs": [
    {
     "data": {
      "text/plain": [
       "tensor([[-1,  1],\n",
       "        [ 0,  0],\n",
       "        [ 1,  1]])"
      ]
     },
     "execution_count": 3,
     "metadata": {},
     "output_type": "execute_result"
    }
   ],
   "source": [
    "B.transpose(0,1)"
   ]
  },
  {
   "cell_type": "code",
   "execution_count": 4,
   "id": "polyphonic-rally",
   "metadata": {},
   "outputs": [
    {
     "data": {
      "text/plain": [
       "tensor([[2, 2],\n",
       "        [2, 4]])"
      ]
     },
     "execution_count": 4,
     "metadata": {},
     "output_type": "execute_result"
    }
   ],
   "source": [
    "torch.matmul(A, B.transpose(0,1))"
   ]
  },
  {
   "cell_type": "code",
   "execution_count": null,
   "id": "light-inspiration",
   "metadata": {},
   "outputs": [],
   "source": []
  },
  {
   "cell_type": "markdown",
   "id": "compressed-pickup",
   "metadata": {},
   "source": [
    "### 실습2. 위의 문제에서 A가 여섯개 쌓인 tensor Q, B가 여섯개 쌓인 tensor K를 생성하고, \n",
    "### Q의 n번째 요소와 K의 n번째 요소끼리 dot product 시켜보자."
   ]
  },
  {
   "cell_type": "code",
   "execution_count": null,
   "id": "vocal-wallace",
   "metadata": {},
   "outputs": [],
   "source": [
    "Q=A.expand(6,2,3)\n",
    "Q"
   ]
  },
  {
   "cell_type": "code",
   "execution_count": null,
   "id": "attended-migration",
   "metadata": {},
   "outputs": [],
   "source": [
    "P=B.expand(6,2,3)"
   ]
  },
  {
   "cell_type": "code",
   "execution_count": null,
   "id": "c97a00dc",
   "metadata": {},
   "outputs": [],
   "source": [
    "P=B.transpose"
   ]
  },
  {
   "cell_type": "code",
   "execution_count": null,
   "id": "ec616351",
   "metadata": {},
   "outputs": [],
   "source": []
  },
  {
   "cell_type": "code",
   "execution_count": null,
   "id": "a1b7cfcd",
   "metadata": {},
   "outputs": [],
   "source": []
  },
  {
   "cell_type": "code",
   "execution_count": null,
   "id": "430255bf",
   "metadata": {},
   "outputs": [],
   "source": []
  }
 ],
 "metadata": {
  "kernelspec": {
   "display_name": "Python 3 (ipykernel)",
   "language": "python",
   "name": "python3"
  },
  "language_info": {
   "codemirror_mode": {
    "name": "ipython",
    "version": 3
   },
   "file_extension": ".py",
   "mimetype": "text/x-python",
   "name": "python",
   "nbconvert_exporter": "python",
   "pygments_lexer": "ipython3",
   "version": "3.10.9"
  },
  "toc": {
   "base_numbering": 1,
   "nav_menu": {},
   "number_sections": true,
   "sideBar": true,
   "skip_h1_title": false,
   "title_cell": "Table of Contents",
   "title_sidebar": "Contents",
   "toc_cell": false,
   "toc_position": {},
   "toc_section_display": true,
   "toc_window_display": false
  },
  "varInspector": {
   "cols": {
    "lenName": 16,
    "lenType": 16,
    "lenVar": 40
   },
   "kernels_config": {
    "python": {
     "delete_cmd_postfix": "",
     "delete_cmd_prefix": "del ",
     "library": "var_list.py",
     "varRefreshCmd": "print(var_dic_list())"
    },
    "r": {
     "delete_cmd_postfix": ") ",
     "delete_cmd_prefix": "rm(",
     "library": "var_list.r",
     "varRefreshCmd": "cat(var_dic_list()) "
    }
   },
   "types_to_exclude": [
    "module",
    "function",
    "builtin_function_or_method",
    "instance",
    "_Feature"
   ],
   "window_display": false
  }
 },
 "nbformat": 4,
 "nbformat_minor": 5
}
